{
 "cells": [
  {
   "cell_type": "markdown",
   "metadata": {},
   "source": [
    "# 3-Webfiltering\n",
    "Webfilters access metadata from external resources to filter PDB structures. For details see [filters](https://github.com/sbl-sdsc/mmtf-pyspark/tree/master/mmtfPyspark/webfilters) and [demos](https://github.com/sbl-sdsc/mmtf-pyspark/tree/master/demos/webfilters)."
   ]
  },
  {
   "cell_type": "code",
   "execution_count": 1,
   "metadata": {},
   "outputs": [],
   "source": [
    "from pyspark.sql import SparkSession\n",
    "from mmtfPyspark.io import mmtfReader\n",
    "from mmtfPyspark.webfilters import AdvancedQuery, ChemicalStructureQuery, PdbjMineSearch\n",
    "from mmtfPyspark.structureViewer import view_structure"
   ]
  },
  {
   "cell_type": "markdown",
   "metadata": {},
   "source": [
    "#### Configure Spark"
   ]
  },
  {
   "cell_type": "code",
   "execution_count": 2,
   "metadata": {},
   "outputs": [],
   "source": [
    "spark = SparkSession.builder.appName(\"3-Webfiltering\").getOrCreate()"
   ]
  },
  {
   "cell_type": "markdown",
   "metadata": {},
   "source": [
    "#### Read PDB structures"
   ]
  },
  {
   "cell_type": "code",
   "execution_count": 3,
   "metadata": {},
   "outputs": [],
   "source": [
    "path = \"../resources/mmtf_reduced_sample\"\n",
    "\n",
    "pdb = mmtfReader.read_sequence_file(path).cache()"
   ]
  },
  {
   "cell_type": "markdown",
   "metadata": {},
   "source": [
    "# NOTE: RCSB PDB's AdvancedQuery web service has been depreciated!!!"
   ]
  },
  {
   "cell_type": "markdown",
   "metadata": {},
   "source": [
    "## Use RCSB PDB's AdvancedQuery web service to filter structures\n",
    "The AdvancedQuery filter can run any query supported by RCSB PDB's [Advanced Search](https://www.rcsb.org/pdb/staticHelp.do?p=help/advancedSearch.html). \n",
    "\n",
    "RCSB PDB advanced queries are described in XML. Here is how you can create the query XML:\n",
    "\n",
    "1. Run an advanced query on the [RCSB PDB website](http://www2.rcsb.org/pdb/search/advSearch.do?search=new)\n",
    "2. On the results page, use your browser to find the text: **Query Details**\n",
    "3. Click on the blue **Query Details** button and copy the query in XML format\n",
    "\n",
    "Here we run a 'Protein Stoichiometry' query for bioassemblies with the stoichiometry `A3B3C3` (trimer of trimers). "
   ]
  },
  {
   "cell_type": "code",
   "execution_count": 4,
   "metadata": {},
   "outputs": [],
   "source": [
    "# query = (\n",
    "#     \"<orgPdbQuery>\"\n",
    "#          \"<queryType>org.pdb.query.simple.StoichiometryQuery</queryType>\"\n",
    "#          \"<stoichiometry>A3B3C3</stoichiometry>\"\n",
    "#     \"</orgPdbQuery>\"\n",
    "# )\n",
    "\n",
    "# trimer_of_trimers = pdb.filter(AdvancedQuery(query))"
   ]
  },
  {
   "cell_type": "code",
   "execution_count": 5,
   "metadata": {},
   "outputs": [],
   "source": [
    "#view_structure(trimer_of_trimers.keys().collect(), bioAssembly=True);"
   ]
  },
  {
   "cell_type": "markdown",
   "metadata": {},
   "source": [
    "## Use Chemical Structure Filter to search by SMILES String\n",
    "The ChemicalStructure query is a wrapper around an RCSB PDB Advanced Search. Here, we search for ligands that have a biotin substructure."
   ]
  },
  {
   "cell_type": "code",
   "execution_count": 6,
   "metadata": {},
   "outputs": [],
   "source": [
    "# smiles = \"OC(=O)CCCC[C@@H]1SC[C@@H]2NC(=O)N[C@H]12\"\n",
    "# result = pdb.filter(ChemicalStructureQuery(smiles, ChemicalStructureQuery.SUBSTRUCTURE))"
   ]
  },
  {
   "cell_type": "code",
   "execution_count": 7,
   "metadata": {},
   "outputs": [],
   "source": [
    "# result.keys().collect()"
   ]
  },
  {
   "cell_type": "code",
   "execution_count": 8,
   "metadata": {},
   "outputs": [],
   "source": [
    "# view_structure(result.keys().collect(), bioAssembly=True);"
   ]
  },
  {
   "cell_type": "markdown",
   "metadata": {},
   "source": [
    "## Use PDBj's Mine Search to filter by PDB metadata\n",
    "The PdbjMine search let's you query all PDB metadata contained in the PDB archive. The metadata are contained in the PDBx/mmCIF files. \n",
    "\n",
    "The example below shows the audit_author and citation_author categories. Each category represents a relational table that can be queried using SQL. Each category represents a table, and fields represent database columns (see\n",
    "https://pdbj.org/mine-rdb-docs available tables and columns)."
   ]
  },
  {
   "cell_type": "markdown",
   "metadata": {},
   "source": [
    "Metadata example from [4P6I.cif](https://files.rcsb.org/view/4P6I.cif):\n",
    " <pre>\n",
    " loop_\n",
    " _audit_author.name \n",
    " _audit_author.pdbx_ordinal \n",
    " ...\n",
    " 'Doudna, J.A.'    4 \n",
    " # \n",
    " loop_\n",
    " _citation_author.citation_id \n",
    " _citation_author.name \n",
    " _citation_author.ordinal \n",
    " ...\n",
    " primary 'Doudna, J.A.'    6\n",
    " </pre>"
   ]
  },
  {
   "cell_type": "markdown",
   "metadata": {},
   "source": [
    "Here we query the name fields in audit_author and citation_author tables."
   ]
  },
  {
   "cell_type": "code",
   "execution_count": 9,
   "metadata": {},
   "outputs": [],
   "source": [
    "query = (\n",
    "    \"SELECT pdbid from audit_author \"\n",
    "    \"WHERE name LIKE 'Doudna%J.A.%' \"\n",
    "    \"UNION \"\n",
    "    \"SELECT pdbid from citation_author \"\n",
    "    \"WHERE citation_id = 'primary' AND name LIKE 'Doudna%J.A.%'\"\n",
    ")"
   ]
  },
  {
   "cell_type": "code",
   "execution_count": 10,
   "metadata": {},
   "outputs": [],
   "source": [
    "doudna_structures = pdb.filter(PdbjMineSearch(query))"
   ]
  },
  {
   "cell_type": "code",
   "execution_count": 11,
   "metadata": {},
   "outputs": [
    {
     "data": {
      "application/vnd.jupyter.widget-view+json": {
       "model_id": "9aa85548402342d289d2d3dff9ba5a6a",
       "version_major": 2,
       "version_minor": 0
      },
      "text/plain": [
       "interactive(children=(IntSlider(value=0, continuous_update=False, description='Structure', max=5), Output()), …"
      ]
     },
     "metadata": {},
     "output_type": "display_data"
    }
   ],
   "source": [
    "view_structure(doudna_structures.keys().collect());"
   ]
  },
  {
   "cell_type": "markdown",
   "metadata": {},
   "source": [
    "## Use PDBj's Mine to Search by SIFTS metadata\n",
    "Each category represents a table, and fields represent database columns (see\n",
    "https://pdbj.org/mine-rdb-docs available tables and columns)."
   ]
  },
  {
   "cell_type": "code",
   "execution_count": 12,
   "metadata": {},
   "outputs": [],
   "source": [
    "query = \"SELECT * from sifts.pdb_chain_enzyme WHERE ec_number = '2.7.11.1'\"\n",
    "\n",
    "kinases = pdb.filter(PdbjMineSearch(query))"
   ]
  },
  {
   "cell_type": "code",
   "execution_count": 13,
   "metadata": {},
   "outputs": [
    {
     "data": {
      "application/vnd.jupyter.widget-view+json": {
       "model_id": "6bec13a36b69420a9619c5d1e0682cd2",
       "version_major": 2,
       "version_minor": 0
      },
      "text/plain": [
       "interactive(children=(IntSlider(value=0, continuous_update=False, description='Structure'), Output()), _dom_cl…"
      ]
     },
     "metadata": {},
     "output_type": "display_data"
    }
   ],
   "source": [
    "view_structure(kinases.keys().collect(), bioAssembly=True);"
   ]
  },
  {
   "cell_type": "code",
   "execution_count": 14,
   "metadata": {},
   "outputs": [],
   "source": [
    "spark.stop()"
   ]
  }
 ],
 "metadata": {
  "kernelspec": {
   "display_name": "Python 3",
   "language": "python",
   "name": "python3"
  },
  "language_info": {
   "codemirror_mode": {
    "name": "ipython",
    "version": 3
   },
   "file_extension": ".py",
   "mimetype": "text/x-python",
   "name": "python",
   "nbconvert_exporter": "python",
   "pygments_lexer": "ipython3",
   "version": "3.6.13"
  }
 },
 "nbformat": 4,
 "nbformat_minor": 4
}

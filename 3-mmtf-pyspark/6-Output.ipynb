{
 "cells": [
  {
   "cell_type": "markdown",
   "metadata": {},
   "source": [
    "# 6-Output\n",
    "Structures can be saved as single files in MMTF format, or multiple structures can be saved in an MMTF Hadoop Sequence file."
   ]
  },
  {
   "cell_type": "code",
   "execution_count": 1,
   "metadata": {},
   "outputs": [],
   "source": [
    "from pyspark.sql import SparkSession\n",
    "from mmtfPyspark.io import mmtfReader, mmtfWriter\n",
    "from mmtfPyspark.webfilters import Pisces\n",
    "from mmtfPyspark.mappers import StructureToPolymerChains"
   ]
  },
  {
   "cell_type": "markdown",
   "metadata": {},
   "source": [
    "#### Configure Spark"
   ]
  },
  {
   "cell_type": "code",
   "execution_count": 2,
   "metadata": {},
   "outputs": [],
   "source": [
    "spark = SparkSession.builder.appName(\"6-Output\").getOrCreate()"
   ]
  },
  {
   "cell_type": "markdown",
   "metadata": {},
   "source": [
    "#### Read PDB structures"
   ]
  },
  {
   "cell_type": "code",
   "execution_count": 3,
   "metadata": {},
   "outputs": [],
   "source": [
    "path = \"../resources/mmtf_reduced_sample\"\n",
    "\n",
    "pdb = mmtfReader.read_sequence_file(path)"
   ]
  },
  {
   "cell_type": "markdown",
   "metadata": {},
   "source": [
    "## Use Pisces filter to create a non-redundant set of protein chains\n",
    "Many analyses of the PDB use the [PISCES CulledPDB](https://github.com/sbl-sdsc/mmtf-pyspark/blob/master/mmtfPyspark/webfilters/pisces.py) sets maintained by the R. Dubrack group.\n",
    "A CulledPDB set is selected by specifying sequenceIdentity and resolution cutoff values from the following\n",
    "list:\n",
    "* sequenceIdentity = [20, 25, 30, 40, 50, 60, 70, 80, 90]\n",
    "* resolution = [1.6, 1.8, 2.0, 2.2, 2.5, 3.0]\n",
    "\n",
    "\n",
    "In the example below, we create a high-resolution, non-redundant set of protein chains with a 20% sequence identity threshold and 1.6 A resolution threshold."
   ]
  },
  {
   "cell_type": "code",
   "execution_count": 4,
   "metadata": {},
   "outputs": [],
   "source": [
    "nr_chains = pdb \\\n",
    "    .filter(Pisces(sequenceIdentity=20, resolution = 1.6)) \\\n",
    "    .flatMap(StructureToPolymerChains()) \\\n",
    "    .filter(Pisces(sequenceIdentity=20, resolution = 1.6))"
   ]
  },
  {
   "cell_type": "code",
   "execution_count": 5,
   "metadata": {},
   "outputs": [
    {
     "data": {
      "text/plain": [
       "2004"
      ]
     },
     "execution_count": 5,
     "metadata": {},
     "output_type": "execute_result"
    }
   ],
   "source": [
    "nr_chains.count()"
   ]
  },
  {
   "cell_type": "markdown",
   "metadata": {},
   "source": [
    "## Save chains in an MMTF Hadoop Sequence file\n",
    "If we need to use a set of structures multiple times, or want to create a snapshot in time (e.g., for reproducible analysis), we can save structures to an MMTF Hadoop Sequence File.\n",
    "\n",
    "Here, we save the Pices subset we've just created. **Note, if the output file already exists, you must delete it first**."
   ]
  },
  {
   "cell_type": "code",
   "execution_count": 6,
   "metadata": {},
   "outputs": [],
   "source": [
    "# Writing is temporaryly disabled due to ongoing work on encoder and decoder libraries\n",
    "# mmtfWriter.write_sequence_file(path + \"_pices20_1.6\", nr_chains)"
   ]
  },
  {
   "cell_type": "markdown",
   "metadata": {},
   "source": [
    "## ... and read structures back in \n",
    "Check if it contains the correct number of chains."
   ]
  },
  {
   "cell_type": "code",
   "execution_count": 7,
   "metadata": {},
   "outputs": [],
   "source": [
    "# nr_chains = mmtfReader.read_sequence_file(path + \"_pices20_1.6\")\n",
    "# nr_chains.count()"
   ]
  },
  {
   "cell_type": "code",
   "execution_count": 8,
   "metadata": {},
   "outputs": [],
   "source": [
    "spark.stop()"
   ]
  }
 ],
 "metadata": {
  "kernelspec": {
   "display_name": "Python 3",
   "language": "python",
   "name": "python3"
  },
  "language_info": {
   "codemirror_mode": {
    "name": "ipython",
    "version": 3
   },
   "file_extension": ".py",
   "mimetype": "text/x-python",
   "name": "python",
   "nbconvert_exporter": "python",
   "pygments_lexer": "ipython3",
   "version": "3.6.13"
  }
 },
 "nbformat": 4,
 "nbformat_minor": 4
}

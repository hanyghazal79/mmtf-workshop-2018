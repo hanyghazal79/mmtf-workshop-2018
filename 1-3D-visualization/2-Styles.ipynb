{
 "cells": [
  {
   "cell_type": "markdown",
   "metadata": {},
   "source": [
    "# Setting Rendering Styles\n",
    "This tutorial demonstrates how to instantiate a py3Dmol viewer and set atom styles and colors."
   ]
  },
  {
   "cell_type": "code",
   "execution_count": 1,
   "metadata": {},
   "outputs": [],
   "source": [
    "import py3Dmol"
   ]
  },
  {
   "cell_type": "markdown",
   "metadata": {},
   "source": [
    "## Instantiating the py3mol viewer with a PDB ID\n",
    "py3Dmol downloads PDB structures using the MMTF file format from https://mmtf.rcsb.org. Prepend the 'pdb:\" prefix to the 4-letter PDB ID."
   ]
  },
  {
   "cell_type": "code",
   "execution_count": 2,
   "metadata": {},
   "outputs": [
    {
     "data": {
      "application/3dmoljs_load.v0": "<div id=\"3dmolviewer_159190255709264\"  style=\"position: relative; width: 640px; height: 480px\">\n        <p id=\"3dmolwarning_159190255709264\" style=\"background-color:#ffcccc;color:black\">You appear to be running in JupyterLab (or JavaScript failed to load for some other reason).  You need to install the 3dmol extension: <br>\n        <tt>jupyter labextension install jupyterlab_3dmol</tt></p>\n        </div>\n<script>\n\nvar loadScriptAsync = function(uri){\n  return new Promise((resolve, reject) => {\n    var tag = document.createElement('script');\n    tag.src = uri;\n    tag.async = true;\n    tag.onload = () => {\n      resolve();\n    };\n  var firstScriptTag = document.getElementsByTagName('script')[0];\n  firstScriptTag.parentNode.insertBefore(tag, firstScriptTag);\n});\n};\n\nif(typeof $3Dmolpromise === 'undefined') {\n$3Dmolpromise = null;\n  $3Dmolpromise = loadScriptAsync('https://3dmol.csb.pitt.edu/build/3Dmol.js');\n}\n\nvar viewer_159190255709264 = null;\nvar warn = document.getElementById(\"3dmolwarning_159190255709264\");\nif(warn) {\n    warn.parentNode.removeChild(warn);\n}\n$3Dmolpromise.then(function() {\nviewer_159190255709264 = $3Dmol.createViewer($(\"#3dmolviewer_159190255709264\"),{backgroundColor:\"white\"});\n$3Dmol.download(\"pdb:1STP\", viewer_159190255709264, {}, function() {\nviewer_159190255709264.render();\n})\n});\n</script>",
      "text/html": [
       "<div id=\"3dmolviewer_159190255709264\"  style=\"position: relative; width: 640px; height: 480px\">\n",
       "        <p id=\"3dmolwarning_159190255709264\" style=\"background-color:#ffcccc;color:black\">You appear to be running in JupyterLab (or JavaScript failed to load for some other reason).  You need to install the 3dmol extension: <br>\n",
       "        <tt>jupyter labextension install jupyterlab_3dmol</tt></p>\n",
       "        </div>\n",
       "<script>\n",
       "\n",
       "var loadScriptAsync = function(uri){\n",
       "  return new Promise((resolve, reject) => {\n",
       "    var tag = document.createElement('script');\n",
       "    tag.src = uri;\n",
       "    tag.async = true;\n",
       "    tag.onload = () => {\n",
       "      resolve();\n",
       "    };\n",
       "  var firstScriptTag = document.getElementsByTagName('script')[0];\n",
       "  firstScriptTag.parentNode.insertBefore(tag, firstScriptTag);\n",
       "});\n",
       "};\n",
       "\n",
       "if(typeof $3Dmolpromise === 'undefined') {\n",
       "$3Dmolpromise = null;\n",
       "  $3Dmolpromise = loadScriptAsync('https://3dmol.csb.pitt.edu/build/3Dmol.js');\n",
       "}\n",
       "\n",
       "var viewer_159190255709264 = null;\n",
       "var warn = document.getElementById(\"3dmolwarning_159190255709264\");\n",
       "if(warn) {\n",
       "    warn.parentNode.removeChild(warn);\n",
       "}\n",
       "$3Dmolpromise.then(function() {\n",
       "viewer_159190255709264 = $3Dmol.createViewer($(\"#3dmolviewer_159190255709264\"),{backgroundColor:\"white\"});\n",
       "$3Dmol.download(\"pdb:1STP\", viewer_159190255709264, {}, function() {\n",
       "viewer_159190255709264.render();\n",
       "})\n",
       "});\n",
       "</script>"
      ]
     },
     "metadata": {},
     "output_type": "display_data"
    }
   ],
   "source": [
    "viewer = py3Dmol.view(query='pdb:1STP')\n",
    "viewer.show()"
   ]
  },
  {
   "cell_type": "markdown",
   "metadata": {},
   "source": [
    "## Setting an Atom Style\n",
    "Styles are specified as nested dictionaries. In this example, 'stick' is the AtomStyleSpec [(list of atom styles)](http://3dmol.csb.pitt.edu/doc/types.html#AtomStyleSpec)."
   ]
  },
  {
   "cell_type": "code",
   "execution_count": 3,
   "metadata": {},
   "outputs": [
    {
     "data": {
      "application/3dmoljs_load.v0": "<div id=\"3dmolviewer_15919025593640718\"  style=\"position: relative; width: 640px; height: 480px\">\n        <p id=\"3dmolwarning_15919025593640718\" style=\"background-color:#ffcccc;color:black\">You appear to be running in JupyterLab (or JavaScript failed to load for some other reason).  You need to install the 3dmol extension: <br>\n        <tt>jupyter labextension install jupyterlab_3dmol</tt></p>\n        </div>\n<script>\n\nvar loadScriptAsync = function(uri){\n  return new Promise((resolve, reject) => {\n    var tag = document.createElement('script');\n    tag.src = uri;\n    tag.async = true;\n    tag.onload = () => {\n      resolve();\n    };\n  var firstScriptTag = document.getElementsByTagName('script')[0];\n  firstScriptTag.parentNode.insertBefore(tag, firstScriptTag);\n});\n};\n\nif(typeof $3Dmolpromise === 'undefined') {\n$3Dmolpromise = null;\n  $3Dmolpromise = loadScriptAsync('https://3dmol.csb.pitt.edu/build/3Dmol.js');\n}\n\nvar viewer_15919025593640718 = null;\nvar warn = document.getElementById(\"3dmolwarning_15919025593640718\");\nif(warn) {\n    warn.parentNode.removeChild(warn);\n}\n$3Dmolpromise.then(function() {\nviewer_15919025593640718 = $3Dmol.createViewer($(\"#3dmolviewer_15919025593640718\"),{backgroundColor:\"white\"});\n$3Dmol.download(\"pdb:1STP\", viewer_15919025593640718, {}, function() {\n\tviewer_15919025593640718.setStyle({\"stick\": {}});\nviewer_15919025593640718.render();\n})\n});\n</script>",
      "text/html": [
       "<div id=\"3dmolviewer_15919025593640718\"  style=\"position: relative; width: 640px; height: 480px\">\n",
       "        <p id=\"3dmolwarning_15919025593640718\" style=\"background-color:#ffcccc;color:black\">You appear to be running in JupyterLab (or JavaScript failed to load for some other reason).  You need to install the 3dmol extension: <br>\n",
       "        <tt>jupyter labextension install jupyterlab_3dmol</tt></p>\n",
       "        </div>\n",
       "<script>\n",
       "\n",
       "var loadScriptAsync = function(uri){\n",
       "  return new Promise((resolve, reject) => {\n",
       "    var tag = document.createElement('script');\n",
       "    tag.src = uri;\n",
       "    tag.async = true;\n",
       "    tag.onload = () => {\n",
       "      resolve();\n",
       "    };\n",
       "  var firstScriptTag = document.getElementsByTagName('script')[0];\n",
       "  firstScriptTag.parentNode.insertBefore(tag, firstScriptTag);\n",
       "});\n",
       "};\n",
       "\n",
       "if(typeof $3Dmolpromise === 'undefined') {\n",
       "$3Dmolpromise = null;\n",
       "  $3Dmolpromise = loadScriptAsync('https://3dmol.csb.pitt.edu/build/3Dmol.js');\n",
       "}\n",
       "\n",
       "var viewer_15919025593640718 = null;\n",
       "var warn = document.getElementById(\"3dmolwarning_15919025593640718\");\n",
       "if(warn) {\n",
       "    warn.parentNode.removeChild(warn);\n",
       "}\n",
       "$3Dmolpromise.then(function() {\n",
       "viewer_15919025593640718 = $3Dmol.createViewer($(\"#3dmolviewer_15919025593640718\"),{backgroundColor:\"white\"});\n",
       "$3Dmol.download(\"pdb:1STP\", viewer_15919025593640718, {}, function() {\n",
       "\tviewer_15919025593640718.setStyle({\"stick\": {}});\n",
       "viewer_15919025593640718.render();\n",
       "})\n",
       "});\n",
       "</script>"
      ]
     },
     "metadata": {},
     "output_type": "display_data"
    }
   ],
   "source": [
    "viewer.setStyle({'stick': {}})\n",
    "viewer.show()"
   ]
  },
  {
   "cell_type": "markdown",
   "metadata": {},
   "source": [
    "## Setting a Color Representation\n",
    "Colors are specified as a dictionary, e.g., {'color': 'spectrum'} or monochrome colors {'color':'lightgreen'} [(list of colors)](https://github.com/3dmol/3Dmol.js/blob/master/3Dmol/colors.js#L45-L192)."
   ]
  },
  {
   "cell_type": "code",
   "execution_count": 4,
   "metadata": {},
   "outputs": [
    {
     "data": {
      "application/3dmoljs_load.v0": "<div id=\"3dmolviewer_1591902560819245\"  style=\"position: relative; width: 640px; height: 480px\">\n        <p id=\"3dmolwarning_1591902560819245\" style=\"background-color:#ffcccc;color:black\">You appear to be running in JupyterLab (or JavaScript failed to load for some other reason).  You need to install the 3dmol extension: <br>\n        <tt>jupyter labextension install jupyterlab_3dmol</tt></p>\n        </div>\n<script>\n\nvar loadScriptAsync = function(uri){\n  return new Promise((resolve, reject) => {\n    var tag = document.createElement('script');\n    tag.src = uri;\n    tag.async = true;\n    tag.onload = () => {\n      resolve();\n    };\n  var firstScriptTag = document.getElementsByTagName('script')[0];\n  firstScriptTag.parentNode.insertBefore(tag, firstScriptTag);\n});\n};\n\nif(typeof $3Dmolpromise === 'undefined') {\n$3Dmolpromise = null;\n  $3Dmolpromise = loadScriptAsync('https://3dmol.csb.pitt.edu/build/3Dmol.js');\n}\n\nvar viewer_1591902560819245 = null;\nvar warn = document.getElementById(\"3dmolwarning_1591902560819245\");\nif(warn) {\n    warn.parentNode.removeChild(warn);\n}\n$3Dmolpromise.then(function() {\nviewer_1591902560819245 = $3Dmol.createViewer($(\"#3dmolviewer_1591902560819245\"),{backgroundColor:\"white\"});\n$3Dmol.download(\"pdb:1STP\", viewer_1591902560819245, {}, function() {\n\tviewer_1591902560819245.setStyle({\"stick\": {}});\n\tviewer_1591902560819245.setStyle({\"cartoon\": {\"color\": \"spectrum\"}});\nviewer_1591902560819245.render();\n})\n});\n</script>",
      "text/html": [
       "<div id=\"3dmolviewer_1591902560819245\"  style=\"position: relative; width: 640px; height: 480px\">\n",
       "        <p id=\"3dmolwarning_1591902560819245\" style=\"background-color:#ffcccc;color:black\">You appear to be running in JupyterLab (or JavaScript failed to load for some other reason).  You need to install the 3dmol extension: <br>\n",
       "        <tt>jupyter labextension install jupyterlab_3dmol</tt></p>\n",
       "        </div>\n",
       "<script>\n",
       "\n",
       "var loadScriptAsync = function(uri){\n",
       "  return new Promise((resolve, reject) => {\n",
       "    var tag = document.createElement('script');\n",
       "    tag.src = uri;\n",
       "    tag.async = true;\n",
       "    tag.onload = () => {\n",
       "      resolve();\n",
       "    };\n",
       "  var firstScriptTag = document.getElementsByTagName('script')[0];\n",
       "  firstScriptTag.parentNode.insertBefore(tag, firstScriptTag);\n",
       "});\n",
       "};\n",
       "\n",
       "if(typeof $3Dmolpromise === 'undefined') {\n",
       "$3Dmolpromise = null;\n",
       "  $3Dmolpromise = loadScriptAsync('https://3dmol.csb.pitt.edu/build/3Dmol.js');\n",
       "}\n",
       "\n",
       "var viewer_1591902560819245 = null;\n",
       "var warn = document.getElementById(\"3dmolwarning_1591902560819245\");\n",
       "if(warn) {\n",
       "    warn.parentNode.removeChild(warn);\n",
       "}\n",
       "$3Dmolpromise.then(function() {\n",
       "viewer_1591902560819245 = $3Dmol.createViewer($(\"#3dmolviewer_1591902560819245\"),{backgroundColor:\"white\"});\n",
       "$3Dmol.download(\"pdb:1STP\", viewer_1591902560819245, {}, function() {\n",
       "\tviewer_1591902560819245.setStyle({\"stick\": {}});\n",
       "\tviewer_1591902560819245.setStyle({\"cartoon\": {\"color\": \"spectrum\"}});\n",
       "viewer_1591902560819245.render();\n",
       "})\n",
       "});\n",
       "</script>"
      ]
     },
     "metadata": {},
     "output_type": "display_data"
    }
   ],
   "source": [
    "viewer.setStyle({'cartoon': {'color': 'spectrum'}})\n",
    "viewer.show()"
   ]
  },
  {
   "cell_type": "markdown",
   "metadata": {},
   "source": [
    "## Setting a Color Scheme\n",
    "Color schemes can be used to color atoms and residues by properties. A particulary useful color scheme is the <color>Carbon color scheme, for example: 'greenCarbon' [(list of color schemes)](https://github.com/3dmol/3Dmol.js/blob/master/3Dmol/colors.js#L26-L36)."
   ]
  },
  {
   "cell_type": "code",
   "execution_count": 5,
   "metadata": {},
   "outputs": [
    {
     "data": {
      "application/3dmoljs_load.v0": "<div id=\"3dmolviewer_1591902562715348\"  style=\"position: relative; width: 640px; height: 480px\">\n        <p id=\"3dmolwarning_1591902562715348\" style=\"background-color:#ffcccc;color:black\">You appear to be running in JupyterLab (or JavaScript failed to load for some other reason).  You need to install the 3dmol extension: <br>\n        <tt>jupyter labextension install jupyterlab_3dmol</tt></p>\n        </div>\n<script>\n\nvar loadScriptAsync = function(uri){\n  return new Promise((resolve, reject) => {\n    var tag = document.createElement('script');\n    tag.src = uri;\n    tag.async = true;\n    tag.onload = () => {\n      resolve();\n    };\n  var firstScriptTag = document.getElementsByTagName('script')[0];\n  firstScriptTag.parentNode.insertBefore(tag, firstScriptTag);\n});\n};\n\nif(typeof $3Dmolpromise === 'undefined') {\n$3Dmolpromise = null;\n  $3Dmolpromise = loadScriptAsync('https://3dmol.csb.pitt.edu/build/3Dmol.js');\n}\n\nvar viewer_1591902562715348 = null;\nvar warn = document.getElementById(\"3dmolwarning_1591902562715348\");\nif(warn) {\n    warn.parentNode.removeChild(warn);\n}\n$3Dmolpromise.then(function() {\nviewer_1591902562715348 = $3Dmol.createViewer($(\"#3dmolviewer_1591902562715348\"),{backgroundColor:\"white\"});\n$3Dmol.download(\"pdb:1STP\", viewer_1591902562715348, {}, function() {\n\tviewer_1591902562715348.setStyle({\"stick\": {}});\n\tviewer_1591902562715348.setStyle({\"cartoon\": {\"color\": \"spectrum\"}});\n\tviewer_1591902562715348.setStyle({\"stick\": {\"colorscheme\": \"greenCarbon\"}});\nviewer_1591902562715348.render();\n})\n});\n</script>",
      "text/html": [
       "<div id=\"3dmolviewer_1591902562715348\"  style=\"position: relative; width: 640px; height: 480px\">\n",
       "        <p id=\"3dmolwarning_1591902562715348\" style=\"background-color:#ffcccc;color:black\">You appear to be running in JupyterLab (or JavaScript failed to load for some other reason).  You need to install the 3dmol extension: <br>\n",
       "        <tt>jupyter labextension install jupyterlab_3dmol</tt></p>\n",
       "        </div>\n",
       "<script>\n",
       "\n",
       "var loadScriptAsync = function(uri){\n",
       "  return new Promise((resolve, reject) => {\n",
       "    var tag = document.createElement('script');\n",
       "    tag.src = uri;\n",
       "    tag.async = true;\n",
       "    tag.onload = () => {\n",
       "      resolve();\n",
       "    };\n",
       "  var firstScriptTag = document.getElementsByTagName('script')[0];\n",
       "  firstScriptTag.parentNode.insertBefore(tag, firstScriptTag);\n",
       "});\n",
       "};\n",
       "\n",
       "if(typeof $3Dmolpromise === 'undefined') {\n",
       "$3Dmolpromise = null;\n",
       "  $3Dmolpromise = loadScriptAsync('https://3dmol.csb.pitt.edu/build/3Dmol.js');\n",
       "}\n",
       "\n",
       "var viewer_1591902562715348 = null;\n",
       "var warn = document.getElementById(\"3dmolwarning_1591902562715348\");\n",
       "if(warn) {\n",
       "    warn.parentNode.removeChild(warn);\n",
       "}\n",
       "$3Dmolpromise.then(function() {\n",
       "viewer_1591902562715348 = $3Dmol.createViewer($(\"#3dmolviewer_1591902562715348\"),{backgroundColor:\"white\"});\n",
       "$3Dmol.download(\"pdb:1STP\", viewer_1591902562715348, {}, function() {\n",
       "\tviewer_1591902562715348.setStyle({\"stick\": {}});\n",
       "\tviewer_1591902562715348.setStyle({\"cartoon\": {\"color\": \"spectrum\"}});\n",
       "\tviewer_1591902562715348.setStyle({\"stick\": {\"colorscheme\": \"greenCarbon\"}});\n",
       "viewer_1591902562715348.render();\n",
       "})\n",
       "});\n",
       "</script>"
      ]
     },
     "metadata": {},
     "output_type": "display_data"
    }
   ],
   "source": [
    "viewer.setStyle({'stick': {'colorscheme': 'greenCarbon'}})\n",
    "viewer.show()"
   ]
  },
  {
   "cell_type": "markdown",
   "metadata": {},
   "source": [
    "Example of coloring by amino acid type"
   ]
  },
  {
   "cell_type": "code",
   "execution_count": 6,
   "metadata": {},
   "outputs": [
    {
     "data": {
      "application/3dmoljs_load.v0": "<div id=\"3dmolviewer_15919025642906969\"  style=\"position: relative; width: 640px; height: 480px\">\n        <p id=\"3dmolwarning_15919025642906969\" style=\"background-color:#ffcccc;color:black\">You appear to be running in JupyterLab (or JavaScript failed to load for some other reason).  You need to install the 3dmol extension: <br>\n        <tt>jupyter labextension install jupyterlab_3dmol</tt></p>\n        </div>\n<script>\n\nvar loadScriptAsync = function(uri){\n  return new Promise((resolve, reject) => {\n    var tag = document.createElement('script');\n    tag.src = uri;\n    tag.async = true;\n    tag.onload = () => {\n      resolve();\n    };\n  var firstScriptTag = document.getElementsByTagName('script')[0];\n  firstScriptTag.parentNode.insertBefore(tag, firstScriptTag);\n});\n};\n\nif(typeof $3Dmolpromise === 'undefined') {\n$3Dmolpromise = null;\n  $3Dmolpromise = loadScriptAsync('https://3dmol.csb.pitt.edu/build/3Dmol.js');\n}\n\nvar viewer_15919025642906969 = null;\nvar warn = document.getElementById(\"3dmolwarning_15919025642906969\");\nif(warn) {\n    warn.parentNode.removeChild(warn);\n}\n$3Dmolpromise.then(function() {\nviewer_15919025642906969 = $3Dmol.createViewer($(\"#3dmolviewer_15919025642906969\"),{backgroundColor:\"white\"});\n$3Dmol.download(\"pdb:1STP\", viewer_15919025642906969, {}, function() {\n\tviewer_15919025642906969.setStyle({\"stick\": {}});\n\tviewer_15919025642906969.setStyle({\"cartoon\": {\"color\": \"spectrum\"}});\n\tviewer_15919025642906969.setStyle({\"stick\": {\"colorscheme\": \"greenCarbon\"}});\n\tviewer_15919025642906969.setStyle({\"cartoon\": {\"colorscheme\": \"amino\"}});\nviewer_15919025642906969.render();\n})\n});\n</script>",
      "text/html": [
       "<div id=\"3dmolviewer_15919025642906969\"  style=\"position: relative; width: 640px; height: 480px\">\n",
       "        <p id=\"3dmolwarning_15919025642906969\" style=\"background-color:#ffcccc;color:black\">You appear to be running in JupyterLab (or JavaScript failed to load for some other reason).  You need to install the 3dmol extension: <br>\n",
       "        <tt>jupyter labextension install jupyterlab_3dmol</tt></p>\n",
       "        </div>\n",
       "<script>\n",
       "\n",
       "var loadScriptAsync = function(uri){\n",
       "  return new Promise((resolve, reject) => {\n",
       "    var tag = document.createElement('script');\n",
       "    tag.src = uri;\n",
       "    tag.async = true;\n",
       "    tag.onload = () => {\n",
       "      resolve();\n",
       "    };\n",
       "  var firstScriptTag = document.getElementsByTagName('script')[0];\n",
       "  firstScriptTag.parentNode.insertBefore(tag, firstScriptTag);\n",
       "});\n",
       "};\n",
       "\n",
       "if(typeof $3Dmolpromise === 'undefined') {\n",
       "$3Dmolpromise = null;\n",
       "  $3Dmolpromise = loadScriptAsync('https://3dmol.csb.pitt.edu/build/3Dmol.js');\n",
       "}\n",
       "\n",
       "var viewer_15919025642906969 = null;\n",
       "var warn = document.getElementById(\"3dmolwarning_15919025642906969\");\n",
       "if(warn) {\n",
       "    warn.parentNode.removeChild(warn);\n",
       "}\n",
       "$3Dmolpromise.then(function() {\n",
       "viewer_15919025642906969 = $3Dmol.createViewer($(\"#3dmolviewer_15919025642906969\"),{backgroundColor:\"white\"});\n",
       "$3Dmol.download(\"pdb:1STP\", viewer_15919025642906969, {}, function() {\n",
       "\tviewer_15919025642906969.setStyle({\"stick\": {}});\n",
       "\tviewer_15919025642906969.setStyle({\"cartoon\": {\"color\": \"spectrum\"}});\n",
       "\tviewer_15919025642906969.setStyle({\"stick\": {\"colorscheme\": \"greenCarbon\"}});\n",
       "\tviewer_15919025642906969.setStyle({\"cartoon\": {\"colorscheme\": \"amino\"}});\n",
       "viewer_15919025642906969.render();\n",
       "})\n",
       "});\n",
       "</script>"
      ]
     },
     "metadata": {},
     "output_type": "display_data"
    }
   ],
   "source": [
    "viewer.setStyle({'cartoon': {'colorscheme':'amino'}})\n",
    "viewer.show()"
   ]
  },
  {
   "cell_type": "code",
   "execution_count": null,
   "metadata": {},
   "outputs": [],
   "source": []
  },
  {
   "cell_type": "code",
   "execution_count": null,
   "metadata": {},
   "outputs": [],
   "source": []
  }
 ],
 "metadata": {
  "kernelspec": {
   "display_name": "Python 3",
   "language": "python",
   "name": "python3"
  },
  "language_info": {
   "codemirror_mode": {
    "name": "ipython",
    "version": 3
   },
   "file_extension": ".py",
   "mimetype": "text/x-python",
   "name": "python",
   "nbconvert_exporter": "python",
   "pygments_lexer": "ipython3",
   "version": "3.7.7"
  }
 },
 "nbformat": 4,
 "nbformat_minor": 2
}

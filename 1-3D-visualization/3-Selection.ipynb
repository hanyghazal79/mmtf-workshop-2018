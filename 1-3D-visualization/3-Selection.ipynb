{
 "cells": [
  {
   "cell_type": "markdown",
   "metadata": {},
   "source": [
    "# Selecting chains, residues, and atoms\n",
    "This tutorial shows how to select parts of a structure and apply different styles. It also shows how to add labels and how to zoom in on a selection."
   ]
  },
  {
   "cell_type": "code",
   "execution_count": 1,
   "metadata": {},
   "outputs": [],
   "source": [
    "import py3Dmol"
   ]
  },
  {
   "cell_type": "markdown",
   "metadata": {},
   "source": [
    "## Instantiate viewer with a Hemoglobin structure\n",
    "This example also shows how to set the size of the viewer."
   ]
  },
  {
   "cell_type": "code",
   "execution_count": 2,
   "metadata": {},
   "outputs": [
    {
     "data": {
      "application/3dmoljs_load.v0": "<div id=\"3dmolviewer_15919025809568992\"  style=\"position: relative; width: 400px; height: 400px\">\n        <p id=\"3dmolwarning_15919025809568992\" style=\"background-color:#ffcccc;color:black\">You appear to be running in JupyterLab (or JavaScript failed to load for some other reason).  You need to install the 3dmol extension: <br>\n        <tt>jupyter labextension install jupyterlab_3dmol</tt></p>\n        </div>\n<script>\n\nvar loadScriptAsync = function(uri){\n  return new Promise((resolve, reject) => {\n    var tag = document.createElement('script');\n    tag.src = uri;\n    tag.async = true;\n    tag.onload = () => {\n      resolve();\n    };\n  var firstScriptTag = document.getElementsByTagName('script')[0];\n  firstScriptTag.parentNode.insertBefore(tag, firstScriptTag);\n});\n};\n\nif(typeof $3Dmolpromise === 'undefined') {\n$3Dmolpromise = null;\n  $3Dmolpromise = loadScriptAsync('https://3dmol.csb.pitt.edu/build/3Dmol.js');\n}\n\nvar viewer_15919025809568992 = null;\nvar warn = document.getElementById(\"3dmolwarning_15919025809568992\");\nif(warn) {\n    warn.parentNode.removeChild(warn);\n}\n$3Dmolpromise.then(function() {\nviewer_15919025809568992 = $3Dmol.createViewer($(\"#3dmolviewer_15919025809568992\"),{backgroundColor:\"white\"});\n$3Dmol.download(\"pdb:5WOG\", viewer_15919025809568992, {}, function() {\nviewer_15919025809568992.render();\n})\n});\n</script>",
      "text/html": [
       "<div id=\"3dmolviewer_15919025809568992\"  style=\"position: relative; width: 400px; height: 400px\">\n",
       "        <p id=\"3dmolwarning_15919025809568992\" style=\"background-color:#ffcccc;color:black\">You appear to be running in JupyterLab (or JavaScript failed to load for some other reason).  You need to install the 3dmol extension: <br>\n",
       "        <tt>jupyter labextension install jupyterlab_3dmol</tt></p>\n",
       "        </div>\n",
       "<script>\n",
       "\n",
       "var loadScriptAsync = function(uri){\n",
       "  return new Promise((resolve, reject) => {\n",
       "    var tag = document.createElement('script');\n",
       "    tag.src = uri;\n",
       "    tag.async = true;\n",
       "    tag.onload = () => {\n",
       "      resolve();\n",
       "    };\n",
       "  var firstScriptTag = document.getElementsByTagName('script')[0];\n",
       "  firstScriptTag.parentNode.insertBefore(tag, firstScriptTag);\n",
       "});\n",
       "};\n",
       "\n",
       "if(typeof $3Dmolpromise === 'undefined') {\n",
       "$3Dmolpromise = null;\n",
       "  $3Dmolpromise = loadScriptAsync('https://3dmol.csb.pitt.edu/build/3Dmol.js');\n",
       "}\n",
       "\n",
       "var viewer_15919025809568992 = null;\n",
       "var warn = document.getElementById(\"3dmolwarning_15919025809568992\");\n",
       "if(warn) {\n",
       "    warn.parentNode.removeChild(warn);\n",
       "}\n",
       "$3Dmolpromise.then(function() {\n",
       "viewer_15919025809568992 = $3Dmol.createViewer($(\"#3dmolviewer_15919025809568992\"),{backgroundColor:\"white\"});\n",
       "$3Dmol.download(\"pdb:5WOG\", viewer_15919025809568992, {}, function() {\n",
       "viewer_15919025809568992.render();\n",
       "})\n",
       "});\n",
       "</script>"
      ]
     },
     "metadata": {},
     "output_type": "display_data"
    }
   ],
   "source": [
    "viewer = py3Dmol.view(query='pdb:5WOG', width=400, height=400)\n",
    "viewer.show()"
   ]
  },
  {
   "cell_type": "markdown",
   "metadata": {
    "collapsed": true
   },
   "source": [
    "## Apply a style to a chain\n",
    "Here we select chain A and apply a cartoon style."
   ]
  },
  {
   "cell_type": "code",
   "execution_count": 3,
   "metadata": {},
   "outputs": [
    {
     "data": {
      "application/3dmoljs_load.v0": "<div id=\"3dmolviewer_15919025874025888\"  style=\"position: relative; width: 400px; height: 400px\">\n        <p id=\"3dmolwarning_15919025874025888\" style=\"background-color:#ffcccc;color:black\">You appear to be running in JupyterLab (or JavaScript failed to load for some other reason).  You need to install the 3dmol extension: <br>\n        <tt>jupyter labextension install jupyterlab_3dmol</tt></p>\n        </div>\n<script>\n\nvar loadScriptAsync = function(uri){\n  return new Promise((resolve, reject) => {\n    var tag = document.createElement('script');\n    tag.src = uri;\n    tag.async = true;\n    tag.onload = () => {\n      resolve();\n    };\n  var firstScriptTag = document.getElementsByTagName('script')[0];\n  firstScriptTag.parentNode.insertBefore(tag, firstScriptTag);\n});\n};\n\nif(typeof $3Dmolpromise === 'undefined') {\n$3Dmolpromise = null;\n  $3Dmolpromise = loadScriptAsync('https://3dmol.csb.pitt.edu/build/3Dmol.js');\n}\n\nvar viewer_15919025874025888 = null;\nvar warn = document.getElementById(\"3dmolwarning_15919025874025888\");\nif(warn) {\n    warn.parentNode.removeChild(warn);\n}\n$3Dmolpromise.then(function() {\nviewer_15919025874025888 = $3Dmol.createViewer($(\"#3dmolviewer_15919025874025888\"),{backgroundColor:\"white\"});\n$3Dmol.download(\"pdb:5WOG\", viewer_15919025874025888, {}, function() {\n\tviewer_15919025874025888.setStyle({\"chain\": \"A\"},{\"cartoon\": {\"color\": \"orange\"}});\nviewer_15919025874025888.render();\n})\n});\n</script>",
      "text/html": [
       "<div id=\"3dmolviewer_15919025874025888\"  style=\"position: relative; width: 400px; height: 400px\">\n",
       "        <p id=\"3dmolwarning_15919025874025888\" style=\"background-color:#ffcccc;color:black\">You appear to be running in JupyterLab (or JavaScript failed to load for some other reason).  You need to install the 3dmol extension: <br>\n",
       "        <tt>jupyter labextension install jupyterlab_3dmol</tt></p>\n",
       "        </div>\n",
       "<script>\n",
       "\n",
       "var loadScriptAsync = function(uri){\n",
       "  return new Promise((resolve, reject) => {\n",
       "    var tag = document.createElement('script');\n",
       "    tag.src = uri;\n",
       "    tag.async = true;\n",
       "    tag.onload = () => {\n",
       "      resolve();\n",
       "    };\n",
       "  var firstScriptTag = document.getElementsByTagName('script')[0];\n",
       "  firstScriptTag.parentNode.insertBefore(tag, firstScriptTag);\n",
       "});\n",
       "};\n",
       "\n",
       "if(typeof $3Dmolpromise === 'undefined') {\n",
       "$3Dmolpromise = null;\n",
       "  $3Dmolpromise = loadScriptAsync('https://3dmol.csb.pitt.edu/build/3Dmol.js');\n",
       "}\n",
       "\n",
       "var viewer_15919025874025888 = null;\n",
       "var warn = document.getElementById(\"3dmolwarning_15919025874025888\");\n",
       "if(warn) {\n",
       "    warn.parentNode.removeChild(warn);\n",
       "}\n",
       "$3Dmolpromise.then(function() {\n",
       "viewer_15919025874025888 = $3Dmol.createViewer($(\"#3dmolviewer_15919025874025888\"),{backgroundColor:\"white\"});\n",
       "$3Dmol.download(\"pdb:5WOG\", viewer_15919025874025888, {}, function() {\n",
       "\tviewer_15919025874025888.setStyle({\"chain\": \"A\"},{\"cartoon\": {\"color\": \"orange\"}});\n",
       "viewer_15919025874025888.render();\n",
       "})\n",
       "});\n",
       "</script>"
      ]
     },
     "metadata": {},
     "output_type": "display_data"
    }
   ],
   "source": [
    "viewer.setStyle({'chain':'A'},{'cartoon': {'color': 'orange'}})\n",
    "viewer.show()"
   ]
  },
  {
   "cell_type": "markdown",
   "metadata": {},
   "source": [
    "## Apply a style to a list of  chains and add labels\n",
    "Use a list to select to multiple chains."
   ]
  },
  {
   "cell_type": "code",
   "execution_count": 4,
   "metadata": {},
   "outputs": [
    {
     "data": {
      "application/3dmoljs_load.v0": "<div id=\"3dmolviewer_1591902589672487\"  style=\"position: relative; width: 400px; height: 400px\">\n        <p id=\"3dmolwarning_1591902589672487\" style=\"background-color:#ffcccc;color:black\">You appear to be running in JupyterLab (or JavaScript failed to load for some other reason).  You need to install the 3dmol extension: <br>\n        <tt>jupyter labextension install jupyterlab_3dmol</tt></p>\n        </div>\n<script>\n\nvar loadScriptAsync = function(uri){\n  return new Promise((resolve, reject) => {\n    var tag = document.createElement('script');\n    tag.src = uri;\n    tag.async = true;\n    tag.onload = () => {\n      resolve();\n    };\n  var firstScriptTag = document.getElementsByTagName('script')[0];\n  firstScriptTag.parentNode.insertBefore(tag, firstScriptTag);\n});\n};\n\nif(typeof $3Dmolpromise === 'undefined') {\n$3Dmolpromise = null;\n  $3Dmolpromise = loadScriptAsync('https://3dmol.csb.pitt.edu/build/3Dmol.js');\n}\n\nvar viewer_1591902589672487 = null;\nvar warn = document.getElementById(\"3dmolwarning_1591902589672487\");\nif(warn) {\n    warn.parentNode.removeChild(warn);\n}\n$3Dmolpromise.then(function() {\nviewer_1591902589672487 = $3Dmol.createViewer($(\"#3dmolviewer_1591902589672487\"),{backgroundColor:\"white\"});\n$3Dmol.download(\"pdb:5WOG\", viewer_1591902589672487, {}, function() {\n\tviewer_1591902589672487.setStyle({\"chain\": \"A\"},{\"cartoon\": {\"color\": \"orange\"}});\n\tviewer_1591902589672487.setStyle({\"chain\": [\"A\", \"B\"]},{\"cartoon\": {\"color\": \"orange\"}});\n\tviewer_1591902589672487.addLabel(\"alpha subunits\",{\"fontColor\": \"orange\", \"backgroundColor\": \"lightgray\"},{\"chain\": [\"A\", \"B\"]});\n\tviewer_1591902589672487.setStyle({\"chain\": [\"C\", \"D\"]},{\"cartoon\": {\"color\": \"blue\"}});\n\tviewer_1591902589672487.addLabel(\"beta subunits\",{\"fontColor\": \"blue\", \"backgroundColor\": \"lightgray\"},{\"chain\": [\"C\", \"D\"]});\nviewer_1591902589672487.render();\n})\n});\n</script>",
      "text/html": [
       "<div id=\"3dmolviewer_1591902589672487\"  style=\"position: relative; width: 400px; height: 400px\">\n",
       "        <p id=\"3dmolwarning_1591902589672487\" style=\"background-color:#ffcccc;color:black\">You appear to be running in JupyterLab (or JavaScript failed to load for some other reason).  You need to install the 3dmol extension: <br>\n",
       "        <tt>jupyter labextension install jupyterlab_3dmol</tt></p>\n",
       "        </div>\n",
       "<script>\n",
       "\n",
       "var loadScriptAsync = function(uri){\n",
       "  return new Promise((resolve, reject) => {\n",
       "    var tag = document.createElement('script');\n",
       "    tag.src = uri;\n",
       "    tag.async = true;\n",
       "    tag.onload = () => {\n",
       "      resolve();\n",
       "    };\n",
       "  var firstScriptTag = document.getElementsByTagName('script')[0];\n",
       "  firstScriptTag.parentNode.insertBefore(tag, firstScriptTag);\n",
       "});\n",
       "};\n",
       "\n",
       "if(typeof $3Dmolpromise === 'undefined') {\n",
       "$3Dmolpromise = null;\n",
       "  $3Dmolpromise = loadScriptAsync('https://3dmol.csb.pitt.edu/build/3Dmol.js');\n",
       "}\n",
       "\n",
       "var viewer_1591902589672487 = null;\n",
       "var warn = document.getElementById(\"3dmolwarning_1591902589672487\");\n",
       "if(warn) {\n",
       "    warn.parentNode.removeChild(warn);\n",
       "}\n",
       "$3Dmolpromise.then(function() {\n",
       "viewer_1591902589672487 = $3Dmol.createViewer($(\"#3dmolviewer_1591902589672487\"),{backgroundColor:\"white\"});\n",
       "$3Dmol.download(\"pdb:5WOG\", viewer_1591902589672487, {}, function() {\n",
       "\tviewer_1591902589672487.setStyle({\"chain\": \"A\"},{\"cartoon\": {\"color\": \"orange\"}});\n",
       "\tviewer_1591902589672487.setStyle({\"chain\": [\"A\", \"B\"]},{\"cartoon\": {\"color\": \"orange\"}});\n",
       "\tviewer_1591902589672487.addLabel(\"alpha subunits\",{\"fontColor\": \"orange\", \"backgroundColor\": \"lightgray\"},{\"chain\": [\"A\", \"B\"]});\n",
       "\tviewer_1591902589672487.setStyle({\"chain\": [\"C\", \"D\"]},{\"cartoon\": {\"color\": \"blue\"}});\n",
       "\tviewer_1591902589672487.addLabel(\"beta subunits\",{\"fontColor\": \"blue\", \"backgroundColor\": \"lightgray\"},{\"chain\": [\"C\", \"D\"]});\n",
       "viewer_1591902589672487.render();\n",
       "})\n",
       "});\n",
       "</script>"
      ]
     },
     "metadata": {},
     "output_type": "display_data"
    }
   ],
   "source": [
    "viewer.setStyle({'chain':['A','B']},{'cartoon': {'color': 'orange'}}) # alpha subunits of hemoglobin\n",
    "\n",
    "viewer.addLabel('alpha subunits', {'fontColor':'orange', 'backgroundColor':'lightgray'},\n",
    "                {'chain': ['A','B']})\n",
    "\n",
    "viewer.setStyle({'chain':['C','D']},{'cartoon': {'color': 'blue'}}) # beta subunits of hemoglobin\n",
    "\n",
    "viewer.addLabel('beta subunits', {'fontColor':'blue', 'backgroundColor':'lightgray'},\n",
    "                {'chain': ['C','D']})\n",
    "viewer.show()"
   ]
  },
  {
   "cell_type": "markdown",
   "metadata": {},
   "source": [
    "# Apply style to specific residues by residue name (resn)\n",
    "Here we display all water molecules as spheres."
   ]
  },
  {
   "cell_type": "code",
   "execution_count": 5,
   "metadata": {},
   "outputs": [
    {
     "data": {
      "application/3dmoljs_load.v0": "<div id=\"3dmolviewer_1591902591710028\"  style=\"position: relative; width: 400px; height: 400px\">\n        <p id=\"3dmolwarning_1591902591710028\" style=\"background-color:#ffcccc;color:black\">You appear to be running in JupyterLab (or JavaScript failed to load for some other reason).  You need to install the 3dmol extension: <br>\n        <tt>jupyter labextension install jupyterlab_3dmol</tt></p>\n        </div>\n<script>\n\nvar loadScriptAsync = function(uri){\n  return new Promise((resolve, reject) => {\n    var tag = document.createElement('script');\n    tag.src = uri;\n    tag.async = true;\n    tag.onload = () => {\n      resolve();\n    };\n  var firstScriptTag = document.getElementsByTagName('script')[0];\n  firstScriptTag.parentNode.insertBefore(tag, firstScriptTag);\n});\n};\n\nif(typeof $3Dmolpromise === 'undefined') {\n$3Dmolpromise = null;\n  $3Dmolpromise = loadScriptAsync('https://3dmol.csb.pitt.edu/build/3Dmol.js');\n}\n\nvar viewer_1591902591710028 = null;\nvar warn = document.getElementById(\"3dmolwarning_1591902591710028\");\nif(warn) {\n    warn.parentNode.removeChild(warn);\n}\n$3Dmolpromise.then(function() {\nviewer_1591902591710028 = $3Dmol.createViewer($(\"#3dmolviewer_1591902591710028\"),{backgroundColor:\"white\"});\n$3Dmol.download(\"pdb:5WOG\", viewer_1591902591710028, {}, function() {\n\tviewer_1591902591710028.setStyle({\"chain\": \"A\"},{\"cartoon\": {\"color\": \"orange\"}});\n\tviewer_1591902591710028.setStyle({\"chain\": [\"A\", \"B\"]},{\"cartoon\": {\"color\": \"orange\"}});\n\tviewer_1591902591710028.addLabel(\"alpha subunits\",{\"fontColor\": \"orange\", \"backgroundColor\": \"lightgray\"},{\"chain\": [\"A\", \"B\"]});\n\tviewer_1591902591710028.setStyle({\"chain\": [\"C\", \"D\"]},{\"cartoon\": {\"color\": \"blue\"}});\n\tviewer_1591902591710028.addLabel(\"beta subunits\",{\"fontColor\": \"blue\", \"backgroundColor\": \"lightgray\"},{\"chain\": [\"C\", \"D\"]});\n\tviewer_1591902591710028.setStyle({\"resn\": \"HOH\"},{\"sphere\": {\"radius\": 0.5}});\nviewer_1591902591710028.render();\n})\n});\n</script>",
      "text/html": [
       "<div id=\"3dmolviewer_1591902591710028\"  style=\"position: relative; width: 400px; height: 400px\">\n",
       "        <p id=\"3dmolwarning_1591902591710028\" style=\"background-color:#ffcccc;color:black\">You appear to be running in JupyterLab (or JavaScript failed to load for some other reason).  You need to install the 3dmol extension: <br>\n",
       "        <tt>jupyter labextension install jupyterlab_3dmol</tt></p>\n",
       "        </div>\n",
       "<script>\n",
       "\n",
       "var loadScriptAsync = function(uri){\n",
       "  return new Promise((resolve, reject) => {\n",
       "    var tag = document.createElement('script');\n",
       "    tag.src = uri;\n",
       "    tag.async = true;\n",
       "    tag.onload = () => {\n",
       "      resolve();\n",
       "    };\n",
       "  var firstScriptTag = document.getElementsByTagName('script')[0];\n",
       "  firstScriptTag.parentNode.insertBefore(tag, firstScriptTag);\n",
       "});\n",
       "};\n",
       "\n",
       "if(typeof $3Dmolpromise === 'undefined') {\n",
       "$3Dmolpromise = null;\n",
       "  $3Dmolpromise = loadScriptAsync('https://3dmol.csb.pitt.edu/build/3Dmol.js');\n",
       "}\n",
       "\n",
       "var viewer_1591902591710028 = null;\n",
       "var warn = document.getElementById(\"3dmolwarning_1591902591710028\");\n",
       "if(warn) {\n",
       "    warn.parentNode.removeChild(warn);\n",
       "}\n",
       "$3Dmolpromise.then(function() {\n",
       "viewer_1591902591710028 = $3Dmol.createViewer($(\"#3dmolviewer_1591902591710028\"),{backgroundColor:\"white\"});\n",
       "$3Dmol.download(\"pdb:5WOG\", viewer_1591902591710028, {}, function() {\n",
       "\tviewer_1591902591710028.setStyle({\"chain\": \"A\"},{\"cartoon\": {\"color\": \"orange\"}});\n",
       "\tviewer_1591902591710028.setStyle({\"chain\": [\"A\", \"B\"]},{\"cartoon\": {\"color\": \"orange\"}});\n",
       "\tviewer_1591902591710028.addLabel(\"alpha subunits\",{\"fontColor\": \"orange\", \"backgroundColor\": \"lightgray\"},{\"chain\": [\"A\", \"B\"]});\n",
       "\tviewer_1591902591710028.setStyle({\"chain\": [\"C\", \"D\"]},{\"cartoon\": {\"color\": \"blue\"}});\n",
       "\tviewer_1591902591710028.addLabel(\"beta subunits\",{\"fontColor\": \"blue\", \"backgroundColor\": \"lightgray\"},{\"chain\": [\"C\", \"D\"]});\n",
       "\tviewer_1591902591710028.setStyle({\"resn\": \"HOH\"},{\"sphere\": {\"radius\": 0.5}});\n",
       "viewer_1591902591710028.render();\n",
       "})\n",
       "});\n",
       "</script>"
      ]
     },
     "metadata": {},
     "output_type": "display_data"
    }
   ],
   "source": [
    "viewer.setStyle({'resn': 'HOH'}, {'sphere':{'radius':0.5}})\n",
    "viewer.show()"
   ]
  },
  {
   "cell_type": "markdown",
   "metadata": {},
   "source": [
    "And turn waters off again by resetting their style."
   ]
  },
  {
   "cell_type": "code",
   "execution_count": 6,
   "metadata": {},
   "outputs": [
    {
     "data": {
      "application/3dmoljs_load.v0": "<div id=\"3dmolviewer_1591902593460503\"  style=\"position: relative; width: 400px; height: 400px\">\n        <p id=\"3dmolwarning_1591902593460503\" style=\"background-color:#ffcccc;color:black\">You appear to be running in JupyterLab (or JavaScript failed to load for some other reason).  You need to install the 3dmol extension: <br>\n        <tt>jupyter labextension install jupyterlab_3dmol</tt></p>\n        </div>\n<script>\n\nvar loadScriptAsync = function(uri){\n  return new Promise((resolve, reject) => {\n    var tag = document.createElement('script');\n    tag.src = uri;\n    tag.async = true;\n    tag.onload = () => {\n      resolve();\n    };\n  var firstScriptTag = document.getElementsByTagName('script')[0];\n  firstScriptTag.parentNode.insertBefore(tag, firstScriptTag);\n});\n};\n\nif(typeof $3Dmolpromise === 'undefined') {\n$3Dmolpromise = null;\n  $3Dmolpromise = loadScriptAsync('https://3dmol.csb.pitt.edu/build/3Dmol.js');\n}\n\nvar viewer_1591902593460503 = null;\nvar warn = document.getElementById(\"3dmolwarning_1591902593460503\");\nif(warn) {\n    warn.parentNode.removeChild(warn);\n}\n$3Dmolpromise.then(function() {\nviewer_1591902593460503 = $3Dmol.createViewer($(\"#3dmolviewer_1591902593460503\"),{backgroundColor:\"white\"});\n$3Dmol.download(\"pdb:5WOG\", viewer_1591902593460503, {}, function() {\n\tviewer_1591902593460503.setStyle({\"chain\": \"A\"},{\"cartoon\": {\"color\": \"orange\"}});\n\tviewer_1591902593460503.setStyle({\"chain\": [\"A\", \"B\"]},{\"cartoon\": {\"color\": \"orange\"}});\n\tviewer_1591902593460503.addLabel(\"alpha subunits\",{\"fontColor\": \"orange\", \"backgroundColor\": \"lightgray\"},{\"chain\": [\"A\", \"B\"]});\n\tviewer_1591902593460503.setStyle({\"chain\": [\"C\", \"D\"]},{\"cartoon\": {\"color\": \"blue\"}});\n\tviewer_1591902593460503.addLabel(\"beta subunits\",{\"fontColor\": \"blue\", \"backgroundColor\": \"lightgray\"},{\"chain\": [\"C\", \"D\"]});\n\tviewer_1591902593460503.setStyle({\"resn\": \"HOH\"},{\"sphere\": {\"radius\": 0.5}});\n\tviewer_1591902593460503.setStyle({\"resn\": \"HOH\"},{});\nviewer_1591902593460503.render();\n})\n});\n</script>",
      "text/html": [
       "<div id=\"3dmolviewer_1591902593460503\"  style=\"position: relative; width: 400px; height: 400px\">\n",
       "        <p id=\"3dmolwarning_1591902593460503\" style=\"background-color:#ffcccc;color:black\">You appear to be running in JupyterLab (or JavaScript failed to load for some other reason).  You need to install the 3dmol extension: <br>\n",
       "        <tt>jupyter labextension install jupyterlab_3dmol</tt></p>\n",
       "        </div>\n",
       "<script>\n",
       "\n",
       "var loadScriptAsync = function(uri){\n",
       "  return new Promise((resolve, reject) => {\n",
       "    var tag = document.createElement('script');\n",
       "    tag.src = uri;\n",
       "    tag.async = true;\n",
       "    tag.onload = () => {\n",
       "      resolve();\n",
       "    };\n",
       "  var firstScriptTag = document.getElementsByTagName('script')[0];\n",
       "  firstScriptTag.parentNode.insertBefore(tag, firstScriptTag);\n",
       "});\n",
       "};\n",
       "\n",
       "if(typeof $3Dmolpromise === 'undefined') {\n",
       "$3Dmolpromise = null;\n",
       "  $3Dmolpromise = loadScriptAsync('https://3dmol.csb.pitt.edu/build/3Dmol.js');\n",
       "}\n",
       "\n",
       "var viewer_1591902593460503 = null;\n",
       "var warn = document.getElementById(\"3dmolwarning_1591902593460503\");\n",
       "if(warn) {\n",
       "    warn.parentNode.removeChild(warn);\n",
       "}\n",
       "$3Dmolpromise.then(function() {\n",
       "viewer_1591902593460503 = $3Dmol.createViewer($(\"#3dmolviewer_1591902593460503\"),{backgroundColor:\"white\"});\n",
       "$3Dmol.download(\"pdb:5WOG\", viewer_1591902593460503, {}, function() {\n",
       "\tviewer_1591902593460503.setStyle({\"chain\": \"A\"},{\"cartoon\": {\"color\": \"orange\"}});\n",
       "\tviewer_1591902593460503.setStyle({\"chain\": [\"A\", \"B\"]},{\"cartoon\": {\"color\": \"orange\"}});\n",
       "\tviewer_1591902593460503.addLabel(\"alpha subunits\",{\"fontColor\": \"orange\", \"backgroundColor\": \"lightgray\"},{\"chain\": [\"A\", \"B\"]});\n",
       "\tviewer_1591902593460503.setStyle({\"chain\": [\"C\", \"D\"]},{\"cartoon\": {\"color\": \"blue\"}});\n",
       "\tviewer_1591902593460503.addLabel(\"beta subunits\",{\"fontColor\": \"blue\", \"backgroundColor\": \"lightgray\"},{\"chain\": [\"C\", \"D\"]});\n",
       "\tviewer_1591902593460503.setStyle({\"resn\": \"HOH\"},{\"sphere\": {\"radius\": 0.5}});\n",
       "\tviewer_1591902593460503.setStyle({\"resn\": \"HOH\"},{});\n",
       "viewer_1591902593460503.render();\n",
       "})\n",
       "});\n",
       "</script>"
      ]
     },
     "metadata": {},
     "output_type": "display_data"
    }
   ],
   "source": [
    "viewer.setStyle({'resn': 'HOH'}, {})\n",
    "viewer.show()"
   ]
  },
  {
   "cell_type": "markdown",
   "metadata": {},
   "source": [
    "## Apply a style by residue name (resn)\n",
    "Show heme as spheres."
   ]
  },
  {
   "cell_type": "code",
   "execution_count": 7,
   "metadata": {},
   "outputs": [
    {
     "data": {
      "application/3dmoljs_load.v0": "<div id=\"3dmolviewer_1591902595552303\"  style=\"position: relative; width: 400px; height: 400px\">\n        <p id=\"3dmolwarning_1591902595552303\" style=\"background-color:#ffcccc;color:black\">You appear to be running in JupyterLab (or JavaScript failed to load for some other reason).  You need to install the 3dmol extension: <br>\n        <tt>jupyter labextension install jupyterlab_3dmol</tt></p>\n        </div>\n<script>\n\nvar loadScriptAsync = function(uri){\n  return new Promise((resolve, reject) => {\n    var tag = document.createElement('script');\n    tag.src = uri;\n    tag.async = true;\n    tag.onload = () => {\n      resolve();\n    };\n  var firstScriptTag = document.getElementsByTagName('script')[0];\n  firstScriptTag.parentNode.insertBefore(tag, firstScriptTag);\n});\n};\n\nif(typeof $3Dmolpromise === 'undefined') {\n$3Dmolpromise = null;\n  $3Dmolpromise = loadScriptAsync('https://3dmol.csb.pitt.edu/build/3Dmol.js');\n}\n\nvar viewer_1591902595552303 = null;\nvar warn = document.getElementById(\"3dmolwarning_1591902595552303\");\nif(warn) {\n    warn.parentNode.removeChild(warn);\n}\n$3Dmolpromise.then(function() {\nviewer_1591902595552303 = $3Dmol.createViewer($(\"#3dmolviewer_1591902595552303\"),{backgroundColor:\"white\"});\n$3Dmol.download(\"pdb:5WOG\", viewer_1591902595552303, {}, function() {\n\tviewer_1591902595552303.setStyle({\"chain\": \"A\"},{\"cartoon\": {\"color\": \"orange\"}});\n\tviewer_1591902595552303.setStyle({\"chain\": [\"A\", \"B\"]},{\"cartoon\": {\"color\": \"orange\"}});\n\tviewer_1591902595552303.addLabel(\"alpha subunits\",{\"fontColor\": \"orange\", \"backgroundColor\": \"lightgray\"},{\"chain\": [\"A\", \"B\"]});\n\tviewer_1591902595552303.setStyle({\"chain\": [\"C\", \"D\"]},{\"cartoon\": {\"color\": \"blue\"}});\n\tviewer_1591902595552303.addLabel(\"beta subunits\",{\"fontColor\": \"blue\", \"backgroundColor\": \"lightgray\"},{\"chain\": [\"C\", \"D\"]});\n\tviewer_1591902595552303.setStyle({\"resn\": \"HOH\"},{\"sphere\": {\"radius\": 0.5}});\n\tviewer_1591902595552303.setStyle({\"resn\": \"HOH\"},{});\n\tviewer_1591902595552303.setStyle({\"resn\": \"HEM\"},{\"sphere\": {\"colorscheme\": \"greenCarbon\"}});\nviewer_1591902595552303.render();\n})\n});\n</script>",
      "text/html": [
       "<div id=\"3dmolviewer_1591902595552303\"  style=\"position: relative; width: 400px; height: 400px\">\n",
       "        <p id=\"3dmolwarning_1591902595552303\" style=\"background-color:#ffcccc;color:black\">You appear to be running in JupyterLab (or JavaScript failed to load for some other reason).  You need to install the 3dmol extension: <br>\n",
       "        <tt>jupyter labextension install jupyterlab_3dmol</tt></p>\n",
       "        </div>\n",
       "<script>\n",
       "\n",
       "var loadScriptAsync = function(uri){\n",
       "  return new Promise((resolve, reject) => {\n",
       "    var tag = document.createElement('script');\n",
       "    tag.src = uri;\n",
       "    tag.async = true;\n",
       "    tag.onload = () => {\n",
       "      resolve();\n",
       "    };\n",
       "  var firstScriptTag = document.getElementsByTagName('script')[0];\n",
       "  firstScriptTag.parentNode.insertBefore(tag, firstScriptTag);\n",
       "});\n",
       "};\n",
       "\n",
       "if(typeof $3Dmolpromise === 'undefined') {\n",
       "$3Dmolpromise = null;\n",
       "  $3Dmolpromise = loadScriptAsync('https://3dmol.csb.pitt.edu/build/3Dmol.js');\n",
       "}\n",
       "\n",
       "var viewer_1591902595552303 = null;\n",
       "var warn = document.getElementById(\"3dmolwarning_1591902595552303\");\n",
       "if(warn) {\n",
       "    warn.parentNode.removeChild(warn);\n",
       "}\n",
       "$3Dmolpromise.then(function() {\n",
       "viewer_1591902595552303 = $3Dmol.createViewer($(\"#3dmolviewer_1591902595552303\"),{backgroundColor:\"white\"});\n",
       "$3Dmol.download(\"pdb:5WOG\", viewer_1591902595552303, {}, function() {\n",
       "\tviewer_1591902595552303.setStyle({\"chain\": \"A\"},{\"cartoon\": {\"color\": \"orange\"}});\n",
       "\tviewer_1591902595552303.setStyle({\"chain\": [\"A\", \"B\"]},{\"cartoon\": {\"color\": \"orange\"}});\n",
       "\tviewer_1591902595552303.addLabel(\"alpha subunits\",{\"fontColor\": \"orange\", \"backgroundColor\": \"lightgray\"},{\"chain\": [\"A\", \"B\"]});\n",
       "\tviewer_1591902595552303.setStyle({\"chain\": [\"C\", \"D\"]},{\"cartoon\": {\"color\": \"blue\"}});\n",
       "\tviewer_1591902595552303.addLabel(\"beta subunits\",{\"fontColor\": \"blue\", \"backgroundColor\": \"lightgray\"},{\"chain\": [\"C\", \"D\"]});\n",
       "\tviewer_1591902595552303.setStyle({\"resn\": \"HOH\"},{\"sphere\": {\"radius\": 0.5}});\n",
       "\tviewer_1591902595552303.setStyle({\"resn\": \"HOH\"},{});\n",
       "\tviewer_1591902595552303.setStyle({\"resn\": \"HEM\"},{\"sphere\": {\"colorscheme\": \"greenCarbon\"}});\n",
       "viewer_1591902595552303.render();\n",
       "})\n",
       "});\n",
       "</script>"
      ]
     },
     "metadata": {},
     "output_type": "display_data"
    }
   ],
   "source": [
    "viewer.setStyle({'resn': 'HEM'},{'sphere': {'colorscheme': 'greenCarbon'}})\n",
    "viewer.show()"
   ]
  },
  {
   "cell_type": "markdown",
   "metadata": {},
   "source": [
    "## Apply a style to a specific residue by residue name (resn) on a specific chain\n",
    "Here we select the heme molecule in chain A and color its carbons red. We also adjust the stick radius. Finally, we zoom into a specific heme residue in chain A."
   ]
  },
  {
   "cell_type": "code",
   "execution_count": 8,
   "metadata": {},
   "outputs": [
    {
     "data": {
      "application/3dmoljs_load.v0": "<div id=\"3dmolviewer_15919025973445492\"  style=\"position: relative; width: 400px; height: 400px\">\n        <p id=\"3dmolwarning_15919025973445492\" style=\"background-color:#ffcccc;color:black\">You appear to be running in JupyterLab (or JavaScript failed to load for some other reason).  You need to install the 3dmol extension: <br>\n        <tt>jupyter labextension install jupyterlab_3dmol</tt></p>\n        </div>\n<script>\n\nvar loadScriptAsync = function(uri){\n  return new Promise((resolve, reject) => {\n    var tag = document.createElement('script');\n    tag.src = uri;\n    tag.async = true;\n    tag.onload = () => {\n      resolve();\n    };\n  var firstScriptTag = document.getElementsByTagName('script')[0];\n  firstScriptTag.parentNode.insertBefore(tag, firstScriptTag);\n});\n};\n\nif(typeof $3Dmolpromise === 'undefined') {\n$3Dmolpromise = null;\n  $3Dmolpromise = loadScriptAsync('https://3dmol.csb.pitt.edu/build/3Dmol.js');\n}\n\nvar viewer_15919025973445492 = null;\nvar warn = document.getElementById(\"3dmolwarning_15919025973445492\");\nif(warn) {\n    warn.parentNode.removeChild(warn);\n}\n$3Dmolpromise.then(function() {\nviewer_15919025973445492 = $3Dmol.createViewer($(\"#3dmolviewer_15919025973445492\"),{backgroundColor:\"white\"});\n$3Dmol.download(\"pdb:5WOG\", viewer_15919025973445492, {}, function() {\n\tviewer_15919025973445492.setStyle({\"chain\": \"A\"},{\"cartoon\": {\"color\": \"orange\"}});\n\tviewer_15919025973445492.setStyle({\"chain\": [\"A\", \"B\"]},{\"cartoon\": {\"color\": \"orange\"}});\n\tviewer_15919025973445492.addLabel(\"alpha subunits\",{\"fontColor\": \"orange\", \"backgroundColor\": \"lightgray\"},{\"chain\": [\"A\", \"B\"]});\n\tviewer_15919025973445492.setStyle({\"chain\": [\"C\", \"D\"]},{\"cartoon\": {\"color\": \"blue\"}});\n\tviewer_15919025973445492.addLabel(\"beta subunits\",{\"fontColor\": \"blue\", \"backgroundColor\": \"lightgray\"},{\"chain\": [\"C\", \"D\"]});\n\tviewer_15919025973445492.setStyle({\"resn\": \"HOH\"},{\"sphere\": {\"radius\": 0.5}});\n\tviewer_15919025973445492.setStyle({\"resn\": \"HOH\"},{});\n\tviewer_15919025973445492.setStyle({\"resn\": \"HEM\"},{\"sphere\": {\"colorscheme\": \"greenCarbon\"}});\n\tviewer_15919025973445492.setStyle({\"chain\": \"A\", \"resn\": \"HEM\"},{\"stick\": {\"colorscheme\": \"redCarbon\", \"radius\": 0.2}});\n\tviewer_15919025973445492.zoomTo({\"chain\": \"A\", \"resn\": \"HEM\"});\nviewer_15919025973445492.render();\n})\n});\n</script>",
      "text/html": [
       "<div id=\"3dmolviewer_15919025973445492\"  style=\"position: relative; width: 400px; height: 400px\">\n",
       "        <p id=\"3dmolwarning_15919025973445492\" style=\"background-color:#ffcccc;color:black\">You appear to be running in JupyterLab (or JavaScript failed to load for some other reason).  You need to install the 3dmol extension: <br>\n",
       "        <tt>jupyter labextension install jupyterlab_3dmol</tt></p>\n",
       "        </div>\n",
       "<script>\n",
       "\n",
       "var loadScriptAsync = function(uri){\n",
       "  return new Promise((resolve, reject) => {\n",
       "    var tag = document.createElement('script');\n",
       "    tag.src = uri;\n",
       "    tag.async = true;\n",
       "    tag.onload = () => {\n",
       "      resolve();\n",
       "    };\n",
       "  var firstScriptTag = document.getElementsByTagName('script')[0];\n",
       "  firstScriptTag.parentNode.insertBefore(tag, firstScriptTag);\n",
       "});\n",
       "};\n",
       "\n",
       "if(typeof $3Dmolpromise === 'undefined') {\n",
       "$3Dmolpromise = null;\n",
       "  $3Dmolpromise = loadScriptAsync('https://3dmol.csb.pitt.edu/build/3Dmol.js');\n",
       "}\n",
       "\n",
       "var viewer_15919025973445492 = null;\n",
       "var warn = document.getElementById(\"3dmolwarning_15919025973445492\");\n",
       "if(warn) {\n",
       "    warn.parentNode.removeChild(warn);\n",
       "}\n",
       "$3Dmolpromise.then(function() {\n",
       "viewer_15919025973445492 = $3Dmol.createViewer($(\"#3dmolviewer_15919025973445492\"),{backgroundColor:\"white\"});\n",
       "$3Dmol.download(\"pdb:5WOG\", viewer_15919025973445492, {}, function() {\n",
       "\tviewer_15919025973445492.setStyle({\"chain\": \"A\"},{\"cartoon\": {\"color\": \"orange\"}});\n",
       "\tviewer_15919025973445492.setStyle({\"chain\": [\"A\", \"B\"]},{\"cartoon\": {\"color\": \"orange\"}});\n",
       "\tviewer_15919025973445492.addLabel(\"alpha subunits\",{\"fontColor\": \"orange\", \"backgroundColor\": \"lightgray\"},{\"chain\": [\"A\", \"B\"]});\n",
       "\tviewer_15919025973445492.setStyle({\"chain\": [\"C\", \"D\"]},{\"cartoon\": {\"color\": \"blue\"}});\n",
       "\tviewer_15919025973445492.addLabel(\"beta subunits\",{\"fontColor\": \"blue\", \"backgroundColor\": \"lightgray\"},{\"chain\": [\"C\", \"D\"]});\n",
       "\tviewer_15919025973445492.setStyle({\"resn\": \"HOH\"},{\"sphere\": {\"radius\": 0.5}});\n",
       "\tviewer_15919025973445492.setStyle({\"resn\": \"HOH\"},{});\n",
       "\tviewer_15919025973445492.setStyle({\"resn\": \"HEM\"},{\"sphere\": {\"colorscheme\": \"greenCarbon\"}});\n",
       "\tviewer_15919025973445492.setStyle({\"chain\": \"A\", \"resn\": \"HEM\"},{\"stick\": {\"colorscheme\": \"redCarbon\", \"radius\": 0.2}});\n",
       "\tviewer_15919025973445492.zoomTo({\"chain\": \"A\", \"resn\": \"HEM\"});\n",
       "viewer_15919025973445492.render();\n",
       "})\n",
       "});\n",
       "</script>"
      ]
     },
     "metadata": {},
     "output_type": "display_data"
    }
   ],
   "source": [
    "viewer.setStyle({'chain': 'A', 'resn': 'HEM'},{'stick': {'colorscheme': 'redCarbon', 'radius': 0.2}})\n",
    "viewer.zoomTo({'chain': 'A', 'resn': 'HEM'})\n",
    "viewer.show()"
   ]
  },
  {
   "cell_type": "markdown",
   "metadata": {},
   "source": [
    "# Apply style to a specific chain and residue by residue index (resi)\n",
    "In the following example we display the HIS-87 side chain that interacts with iron in heme."
   ]
  },
  {
   "cell_type": "code",
   "execution_count": 9,
   "metadata": {},
   "outputs": [
    {
     "data": {
      "application/3dmoljs_load.v0": "<div id=\"3dmolviewer_1591902599334523\"  style=\"position: relative; width: 400px; height: 400px\">\n        <p id=\"3dmolwarning_1591902599334523\" style=\"background-color:#ffcccc;color:black\">You appear to be running in JupyterLab (or JavaScript failed to load for some other reason).  You need to install the 3dmol extension: <br>\n        <tt>jupyter labextension install jupyterlab_3dmol</tt></p>\n        </div>\n<script>\n\nvar loadScriptAsync = function(uri){\n  return new Promise((resolve, reject) => {\n    var tag = document.createElement('script');\n    tag.src = uri;\n    tag.async = true;\n    tag.onload = () => {\n      resolve();\n    };\n  var firstScriptTag = document.getElementsByTagName('script')[0];\n  firstScriptTag.parentNode.insertBefore(tag, firstScriptTag);\n});\n};\n\nif(typeof $3Dmolpromise === 'undefined') {\n$3Dmolpromise = null;\n  $3Dmolpromise = loadScriptAsync('https://3dmol.csb.pitt.edu/build/3Dmol.js');\n}\n\nvar viewer_1591902599334523 = null;\nvar warn = document.getElementById(\"3dmolwarning_1591902599334523\");\nif(warn) {\n    warn.parentNode.removeChild(warn);\n}\n$3Dmolpromise.then(function() {\nviewer_1591902599334523 = $3Dmol.createViewer($(\"#3dmolviewer_1591902599334523\"),{backgroundColor:\"white\"});\n$3Dmol.download(\"pdb:5WOG\", viewer_1591902599334523, {}, function() {\n\tviewer_1591902599334523.setStyle({\"chain\": \"A\"},{\"cartoon\": {\"color\": \"orange\"}});\n\tviewer_1591902599334523.setStyle({\"chain\": [\"A\", \"B\"]},{\"cartoon\": {\"color\": \"orange\"}});\n\tviewer_1591902599334523.addLabel(\"alpha subunits\",{\"fontColor\": \"orange\", \"backgroundColor\": \"lightgray\"},{\"chain\": [\"A\", \"B\"]});\n\tviewer_1591902599334523.setStyle({\"chain\": [\"C\", \"D\"]},{\"cartoon\": {\"color\": \"blue\"}});\n\tviewer_1591902599334523.addLabel(\"beta subunits\",{\"fontColor\": \"blue\", \"backgroundColor\": \"lightgray\"},{\"chain\": [\"C\", \"D\"]});\n\tviewer_1591902599334523.setStyle({\"resn\": \"HOH\"},{\"sphere\": {\"radius\": 0.5}});\n\tviewer_1591902599334523.setStyle({\"resn\": \"HOH\"},{});\n\tviewer_1591902599334523.setStyle({\"resn\": \"HEM\"},{\"sphere\": {\"colorscheme\": \"greenCarbon\"}});\n\tviewer_1591902599334523.setStyle({\"chain\": \"A\", \"resn\": \"HEM\"},{\"stick\": {\"colorscheme\": \"redCarbon\", \"radius\": 0.2}});\n\tviewer_1591902599334523.zoomTo({\"chain\": \"A\", \"resn\": \"HEM\"});\n\tviewer_1591902599334523.setStyle({\"chain\": \"A\", \"resi\": \"87\"},{\"stick\": {\"colorscheme\": \"redCarbon\"}});\nviewer_1591902599334523.render();\n})\n});\n</script>",
      "text/html": [
       "<div id=\"3dmolviewer_1591902599334523\"  style=\"position: relative; width: 400px; height: 400px\">\n",
       "        <p id=\"3dmolwarning_1591902599334523\" style=\"background-color:#ffcccc;color:black\">You appear to be running in JupyterLab (or JavaScript failed to load for some other reason).  You need to install the 3dmol extension: <br>\n",
       "        <tt>jupyter labextension install jupyterlab_3dmol</tt></p>\n",
       "        </div>\n",
       "<script>\n",
       "\n",
       "var loadScriptAsync = function(uri){\n",
       "  return new Promise((resolve, reject) => {\n",
       "    var tag = document.createElement('script');\n",
       "    tag.src = uri;\n",
       "    tag.async = true;\n",
       "    tag.onload = () => {\n",
       "      resolve();\n",
       "    };\n",
       "  var firstScriptTag = document.getElementsByTagName('script')[0];\n",
       "  firstScriptTag.parentNode.insertBefore(tag, firstScriptTag);\n",
       "});\n",
       "};\n",
       "\n",
       "if(typeof $3Dmolpromise === 'undefined') {\n",
       "$3Dmolpromise = null;\n",
       "  $3Dmolpromise = loadScriptAsync('https://3dmol.csb.pitt.edu/build/3Dmol.js');\n",
       "}\n",
       "\n",
       "var viewer_1591902599334523 = null;\n",
       "var warn = document.getElementById(\"3dmolwarning_1591902599334523\");\n",
       "if(warn) {\n",
       "    warn.parentNode.removeChild(warn);\n",
       "}\n",
       "$3Dmolpromise.then(function() {\n",
       "viewer_1591902599334523 = $3Dmol.createViewer($(\"#3dmolviewer_1591902599334523\"),{backgroundColor:\"white\"});\n",
       "$3Dmol.download(\"pdb:5WOG\", viewer_1591902599334523, {}, function() {\n",
       "\tviewer_1591902599334523.setStyle({\"chain\": \"A\"},{\"cartoon\": {\"color\": \"orange\"}});\n",
       "\tviewer_1591902599334523.setStyle({\"chain\": [\"A\", \"B\"]},{\"cartoon\": {\"color\": \"orange\"}});\n",
       "\tviewer_1591902599334523.addLabel(\"alpha subunits\",{\"fontColor\": \"orange\", \"backgroundColor\": \"lightgray\"},{\"chain\": [\"A\", \"B\"]});\n",
       "\tviewer_1591902599334523.setStyle({\"chain\": [\"C\", \"D\"]},{\"cartoon\": {\"color\": \"blue\"}});\n",
       "\tviewer_1591902599334523.addLabel(\"beta subunits\",{\"fontColor\": \"blue\", \"backgroundColor\": \"lightgray\"},{\"chain\": [\"C\", \"D\"]});\n",
       "\tviewer_1591902599334523.setStyle({\"resn\": \"HOH\"},{\"sphere\": {\"radius\": 0.5}});\n",
       "\tviewer_1591902599334523.setStyle({\"resn\": \"HOH\"},{});\n",
       "\tviewer_1591902599334523.setStyle({\"resn\": \"HEM\"},{\"sphere\": {\"colorscheme\": \"greenCarbon\"}});\n",
       "\tviewer_1591902599334523.setStyle({\"chain\": \"A\", \"resn\": \"HEM\"},{\"stick\": {\"colorscheme\": \"redCarbon\", \"radius\": 0.2}});\n",
       "\tviewer_1591902599334523.zoomTo({\"chain\": \"A\", \"resn\": \"HEM\"});\n",
       "\tviewer_1591902599334523.setStyle({\"chain\": \"A\", \"resi\": \"87\"},{\"stick\": {\"colorscheme\": \"redCarbon\"}});\n",
       "viewer_1591902599334523.render();\n",
       "})\n",
       "});\n",
       "</script>"
      ]
     },
     "metadata": {},
     "output_type": "display_data"
    }
   ],
   "source": [
    "viewer.setStyle({'chain': 'A', 'resi': '87'},{'stick': {'colorscheme': 'redCarbon'}})\n",
    "viewer.show()"
   ]
  },
  {
   "cell_type": "markdown",
   "metadata": {},
   "source": [
    "# Apply style to an element (elem)\n",
    "We display the iron atom as a green sphere."
   ]
  },
  {
   "cell_type": "code",
   "execution_count": 10,
   "metadata": {},
   "outputs": [
    {
     "data": {
      "application/3dmoljs_load.v0": "<div id=\"3dmolviewer_1591902601145718\"  style=\"position: relative; width: 400px; height: 400px\">\n        <p id=\"3dmolwarning_1591902601145718\" style=\"background-color:#ffcccc;color:black\">You appear to be running in JupyterLab (or JavaScript failed to load for some other reason).  You need to install the 3dmol extension: <br>\n        <tt>jupyter labextension install jupyterlab_3dmol</tt></p>\n        </div>\n<script>\n\nvar loadScriptAsync = function(uri){\n  return new Promise((resolve, reject) => {\n    var tag = document.createElement('script');\n    tag.src = uri;\n    tag.async = true;\n    tag.onload = () => {\n      resolve();\n    };\n  var firstScriptTag = document.getElementsByTagName('script')[0];\n  firstScriptTag.parentNode.insertBefore(tag, firstScriptTag);\n});\n};\n\nif(typeof $3Dmolpromise === 'undefined') {\n$3Dmolpromise = null;\n  $3Dmolpromise = loadScriptAsync('https://3dmol.csb.pitt.edu/build/3Dmol.js');\n}\n\nvar viewer_1591902601145718 = null;\nvar warn = document.getElementById(\"3dmolwarning_1591902601145718\");\nif(warn) {\n    warn.parentNode.removeChild(warn);\n}\n$3Dmolpromise.then(function() {\nviewer_1591902601145718 = $3Dmol.createViewer($(\"#3dmolviewer_1591902601145718\"),{backgroundColor:\"white\"});\n$3Dmol.download(\"pdb:5WOG\", viewer_1591902601145718, {}, function() {\n\tviewer_1591902601145718.setStyle({\"chain\": \"A\"},{\"cartoon\": {\"color\": \"orange\"}});\n\tviewer_1591902601145718.setStyle({\"chain\": [\"A\", \"B\"]},{\"cartoon\": {\"color\": \"orange\"}});\n\tviewer_1591902601145718.addLabel(\"alpha subunits\",{\"fontColor\": \"orange\", \"backgroundColor\": \"lightgray\"},{\"chain\": [\"A\", \"B\"]});\n\tviewer_1591902601145718.setStyle({\"chain\": [\"C\", \"D\"]},{\"cartoon\": {\"color\": \"blue\"}});\n\tviewer_1591902601145718.addLabel(\"beta subunits\",{\"fontColor\": \"blue\", \"backgroundColor\": \"lightgray\"},{\"chain\": [\"C\", \"D\"]});\n\tviewer_1591902601145718.setStyle({\"resn\": \"HOH\"},{\"sphere\": {\"radius\": 0.5}});\n\tviewer_1591902601145718.setStyle({\"resn\": \"HOH\"},{});\n\tviewer_1591902601145718.setStyle({\"resn\": \"HEM\"},{\"sphere\": {\"colorscheme\": \"greenCarbon\"}});\n\tviewer_1591902601145718.setStyle({\"chain\": \"A\", \"resn\": \"HEM\"},{\"stick\": {\"colorscheme\": \"redCarbon\", \"radius\": 0.2}});\n\tviewer_1591902601145718.zoomTo({\"chain\": \"A\", \"resn\": \"HEM\"});\n\tviewer_1591902601145718.setStyle({\"chain\": \"A\", \"resi\": \"87\"},{\"stick\": {\"colorscheme\": \"redCarbon\"}});\n\tviewer_1591902601145718.setStyle({\"chain\": \"A\", \"elem\": \"Fe\"},{\"sphere\": {\"color\": \"green\"}});\nviewer_1591902601145718.render();\n})\n});\n</script>",
      "text/html": [
       "<div id=\"3dmolviewer_1591902601145718\"  style=\"position: relative; width: 400px; height: 400px\">\n",
       "        <p id=\"3dmolwarning_1591902601145718\" style=\"background-color:#ffcccc;color:black\">You appear to be running in JupyterLab (or JavaScript failed to load for some other reason).  You need to install the 3dmol extension: <br>\n",
       "        <tt>jupyter labextension install jupyterlab_3dmol</tt></p>\n",
       "        </div>\n",
       "<script>\n",
       "\n",
       "var loadScriptAsync = function(uri){\n",
       "  return new Promise((resolve, reject) => {\n",
       "    var tag = document.createElement('script');\n",
       "    tag.src = uri;\n",
       "    tag.async = true;\n",
       "    tag.onload = () => {\n",
       "      resolve();\n",
       "    };\n",
       "  var firstScriptTag = document.getElementsByTagName('script')[0];\n",
       "  firstScriptTag.parentNode.insertBefore(tag, firstScriptTag);\n",
       "});\n",
       "};\n",
       "\n",
       "if(typeof $3Dmolpromise === 'undefined') {\n",
       "$3Dmolpromise = null;\n",
       "  $3Dmolpromise = loadScriptAsync('https://3dmol.csb.pitt.edu/build/3Dmol.js');\n",
       "}\n",
       "\n",
       "var viewer_1591902601145718 = null;\n",
       "var warn = document.getElementById(\"3dmolwarning_1591902601145718\");\n",
       "if(warn) {\n",
       "    warn.parentNode.removeChild(warn);\n",
       "}\n",
       "$3Dmolpromise.then(function() {\n",
       "viewer_1591902601145718 = $3Dmol.createViewer($(\"#3dmolviewer_1591902601145718\"),{backgroundColor:\"white\"});\n",
       "$3Dmol.download(\"pdb:5WOG\", viewer_1591902601145718, {}, function() {\n",
       "\tviewer_1591902601145718.setStyle({\"chain\": \"A\"},{\"cartoon\": {\"color\": \"orange\"}});\n",
       "\tviewer_1591902601145718.setStyle({\"chain\": [\"A\", \"B\"]},{\"cartoon\": {\"color\": \"orange\"}});\n",
       "\tviewer_1591902601145718.addLabel(\"alpha subunits\",{\"fontColor\": \"orange\", \"backgroundColor\": \"lightgray\"},{\"chain\": [\"A\", \"B\"]});\n",
       "\tviewer_1591902601145718.setStyle({\"chain\": [\"C\", \"D\"]},{\"cartoon\": {\"color\": \"blue\"}});\n",
       "\tviewer_1591902601145718.addLabel(\"beta subunits\",{\"fontColor\": \"blue\", \"backgroundColor\": \"lightgray\"},{\"chain\": [\"C\", \"D\"]});\n",
       "\tviewer_1591902601145718.setStyle({\"resn\": \"HOH\"},{\"sphere\": {\"radius\": 0.5}});\n",
       "\tviewer_1591902601145718.setStyle({\"resn\": \"HOH\"},{});\n",
       "\tviewer_1591902601145718.setStyle({\"resn\": \"HEM\"},{\"sphere\": {\"colorscheme\": \"greenCarbon\"}});\n",
       "\tviewer_1591902601145718.setStyle({\"chain\": \"A\", \"resn\": \"HEM\"},{\"stick\": {\"colorscheme\": \"redCarbon\", \"radius\": 0.2}});\n",
       "\tviewer_1591902601145718.zoomTo({\"chain\": \"A\", \"resn\": \"HEM\"});\n",
       "\tviewer_1591902601145718.setStyle({\"chain\": \"A\", \"resi\": \"87\"},{\"stick\": {\"colorscheme\": \"redCarbon\"}});\n",
       "\tviewer_1591902601145718.setStyle({\"chain\": \"A\", \"elem\": \"Fe\"},{\"sphere\": {\"color\": \"green\"}});\n",
       "viewer_1591902601145718.render();\n",
       "})\n",
       "});\n",
       "</script>"
      ]
     },
     "metadata": {},
     "output_type": "display_data"
    }
   ],
   "source": [
    "viewer.setStyle({'chain': 'A', 'elem': 'Fe'}, {'sphere': {'color': 'green'}})\n",
    "viewer.show()"
   ]
  },
  {
   "cell_type": "markdown",
   "metadata": {},
   "source": [
    "# Add residue labels\n",
    "Finally, we add labels to HIS-87 and HEM."
   ]
  },
  {
   "cell_type": "code",
   "execution_count": 11,
   "metadata": {},
   "outputs": [
    {
     "data": {
      "application/3dmoljs_load.v0": "<div id=\"3dmolviewer_1591902603055288\"  style=\"position: relative; width: 400px; height: 400px\">\n        <p id=\"3dmolwarning_1591902603055288\" style=\"background-color:#ffcccc;color:black\">You appear to be running in JupyterLab (or JavaScript failed to load for some other reason).  You need to install the 3dmol extension: <br>\n        <tt>jupyter labextension install jupyterlab_3dmol</tt></p>\n        </div>\n<script>\n\nvar loadScriptAsync = function(uri){\n  return new Promise((resolve, reject) => {\n    var tag = document.createElement('script');\n    tag.src = uri;\n    tag.async = true;\n    tag.onload = () => {\n      resolve();\n    };\n  var firstScriptTag = document.getElementsByTagName('script')[0];\n  firstScriptTag.parentNode.insertBefore(tag, firstScriptTag);\n});\n};\n\nif(typeof $3Dmolpromise === 'undefined') {\n$3Dmolpromise = null;\n  $3Dmolpromise = loadScriptAsync('https://3dmol.csb.pitt.edu/build/3Dmol.js');\n}\n\nvar viewer_1591902603055288 = null;\nvar warn = document.getElementById(\"3dmolwarning_1591902603055288\");\nif(warn) {\n    warn.parentNode.removeChild(warn);\n}\n$3Dmolpromise.then(function() {\nviewer_1591902603055288 = $3Dmol.createViewer($(\"#3dmolviewer_1591902603055288\"),{backgroundColor:\"white\"});\n$3Dmol.download(\"pdb:5WOG\", viewer_1591902603055288, {}, function() {\n\tviewer_1591902603055288.setStyle({\"chain\": \"A\"},{\"cartoon\": {\"color\": \"orange\"}});\n\tviewer_1591902603055288.setStyle({\"chain\": [\"A\", \"B\"]},{\"cartoon\": {\"color\": \"orange\"}});\n\tviewer_1591902603055288.addLabel(\"alpha subunits\",{\"fontColor\": \"orange\", \"backgroundColor\": \"lightgray\"},{\"chain\": [\"A\", \"B\"]});\n\tviewer_1591902603055288.setStyle({\"chain\": [\"C\", \"D\"]},{\"cartoon\": {\"color\": \"blue\"}});\n\tviewer_1591902603055288.addLabel(\"beta subunits\",{\"fontColor\": \"blue\", \"backgroundColor\": \"lightgray\"},{\"chain\": [\"C\", \"D\"]});\n\tviewer_1591902603055288.setStyle({\"resn\": \"HOH\"},{\"sphere\": {\"radius\": 0.5}});\n\tviewer_1591902603055288.setStyle({\"resn\": \"HOH\"},{});\n\tviewer_1591902603055288.setStyle({\"resn\": \"HEM\"},{\"sphere\": {\"colorscheme\": \"greenCarbon\"}});\n\tviewer_1591902603055288.setStyle({\"chain\": \"A\", \"resn\": \"HEM\"},{\"stick\": {\"colorscheme\": \"redCarbon\", \"radius\": 0.2}});\n\tviewer_1591902603055288.zoomTo({\"chain\": \"A\", \"resn\": \"HEM\"});\n\tviewer_1591902603055288.setStyle({\"chain\": \"A\", \"resi\": \"87\"},{\"stick\": {\"colorscheme\": \"redCarbon\"}});\n\tviewer_1591902603055288.setStyle({\"chain\": \"A\", \"elem\": \"Fe\"},{\"sphere\": {\"color\": \"green\"}});\n\tviewer_1591902603055288.addResLabels({\"chain\": \"A\", \"resi\": \"87\"});\n\tviewer_1591902603055288.addResLabels({\"chain\": \"A\", \"resn\": \"HEM\"});\nviewer_1591902603055288.render();\n})\n});\n</script>",
      "text/html": [
       "<div id=\"3dmolviewer_1591902603055288\"  style=\"position: relative; width: 400px; height: 400px\">\n",
       "        <p id=\"3dmolwarning_1591902603055288\" style=\"background-color:#ffcccc;color:black\">You appear to be running in JupyterLab (or JavaScript failed to load for some other reason).  You need to install the 3dmol extension: <br>\n",
       "        <tt>jupyter labextension install jupyterlab_3dmol</tt></p>\n",
       "        </div>\n",
       "<script>\n",
       "\n",
       "var loadScriptAsync = function(uri){\n",
       "  return new Promise((resolve, reject) => {\n",
       "    var tag = document.createElement('script');\n",
       "    tag.src = uri;\n",
       "    tag.async = true;\n",
       "    tag.onload = () => {\n",
       "      resolve();\n",
       "    };\n",
       "  var firstScriptTag = document.getElementsByTagName('script')[0];\n",
       "  firstScriptTag.parentNode.insertBefore(tag, firstScriptTag);\n",
       "});\n",
       "};\n",
       "\n",
       "if(typeof $3Dmolpromise === 'undefined') {\n",
       "$3Dmolpromise = null;\n",
       "  $3Dmolpromise = loadScriptAsync('https://3dmol.csb.pitt.edu/build/3Dmol.js');\n",
       "}\n",
       "\n",
       "var viewer_1591902603055288 = null;\n",
       "var warn = document.getElementById(\"3dmolwarning_1591902603055288\");\n",
       "if(warn) {\n",
       "    warn.parentNode.removeChild(warn);\n",
       "}\n",
       "$3Dmolpromise.then(function() {\n",
       "viewer_1591902603055288 = $3Dmol.createViewer($(\"#3dmolviewer_1591902603055288\"),{backgroundColor:\"white\"});\n",
       "$3Dmol.download(\"pdb:5WOG\", viewer_1591902603055288, {}, function() {\n",
       "\tviewer_1591902603055288.setStyle({\"chain\": \"A\"},{\"cartoon\": {\"color\": \"orange\"}});\n",
       "\tviewer_1591902603055288.setStyle({\"chain\": [\"A\", \"B\"]},{\"cartoon\": {\"color\": \"orange\"}});\n",
       "\tviewer_1591902603055288.addLabel(\"alpha subunits\",{\"fontColor\": \"orange\", \"backgroundColor\": \"lightgray\"},{\"chain\": [\"A\", \"B\"]});\n",
       "\tviewer_1591902603055288.setStyle({\"chain\": [\"C\", \"D\"]},{\"cartoon\": {\"color\": \"blue\"}});\n",
       "\tviewer_1591902603055288.addLabel(\"beta subunits\",{\"fontColor\": \"blue\", \"backgroundColor\": \"lightgray\"},{\"chain\": [\"C\", \"D\"]});\n",
       "\tviewer_1591902603055288.setStyle({\"resn\": \"HOH\"},{\"sphere\": {\"radius\": 0.5}});\n",
       "\tviewer_1591902603055288.setStyle({\"resn\": \"HOH\"},{});\n",
       "\tviewer_1591902603055288.setStyle({\"resn\": \"HEM\"},{\"sphere\": {\"colorscheme\": \"greenCarbon\"}});\n",
       "\tviewer_1591902603055288.setStyle({\"chain\": \"A\", \"resn\": \"HEM\"},{\"stick\": {\"colorscheme\": \"redCarbon\", \"radius\": 0.2}});\n",
       "\tviewer_1591902603055288.zoomTo({\"chain\": \"A\", \"resn\": \"HEM\"});\n",
       "\tviewer_1591902603055288.setStyle({\"chain\": \"A\", \"resi\": \"87\"},{\"stick\": {\"colorscheme\": \"redCarbon\"}});\n",
       "\tviewer_1591902603055288.setStyle({\"chain\": \"A\", \"elem\": \"Fe\"},{\"sphere\": {\"color\": \"green\"}});\n",
       "\tviewer_1591902603055288.addResLabels({\"chain\": \"A\", \"resi\": \"87\"});\n",
       "\tviewer_1591902603055288.addResLabels({\"chain\": \"A\", \"resn\": \"HEM\"});\n",
       "viewer_1591902603055288.render();\n",
       "})\n",
       "});\n",
       "</script>"
      ]
     },
     "metadata": {},
     "output_type": "display_data"
    }
   ],
   "source": [
    "viewer.addResLabels({'chain': 'A', 'resi': '87'})\n",
    "viewer.addResLabels({'chain': 'A', 'resn': 'HEM'})\n",
    "viewer.show()"
   ]
  },
  {
   "cell_type": "markdown",
   "metadata": {
    "collapsed": true
   },
   "source": [
    "# Select binding site residues by proximity\n",
    "Here we select all residues within 5 A of the HEM in chain A."
   ]
  },
  {
   "cell_type": "code",
   "execution_count": 12,
   "metadata": {},
   "outputs": [
    {
     "data": {
      "application/3dmoljs_load.v0": "<div id=\"3dmolviewer_1591902605133733\"  style=\"position: relative; width: 400px; height: 400px\">\n        <p id=\"3dmolwarning_1591902605133733\" style=\"background-color:#ffcccc;color:black\">You appear to be running in JupyterLab (or JavaScript failed to load for some other reason).  You need to install the 3dmol extension: <br>\n        <tt>jupyter labextension install jupyterlab_3dmol</tt></p>\n        </div>\n<script>\n\nvar loadScriptAsync = function(uri){\n  return new Promise((resolve, reject) => {\n    var tag = document.createElement('script');\n    tag.src = uri;\n    tag.async = true;\n    tag.onload = () => {\n      resolve();\n    };\n  var firstScriptTag = document.getElementsByTagName('script')[0];\n  firstScriptTag.parentNode.insertBefore(tag, firstScriptTag);\n});\n};\n\nif(typeof $3Dmolpromise === 'undefined') {\n$3Dmolpromise = null;\n  $3Dmolpromise = loadScriptAsync('https://3dmol.csb.pitt.edu/build/3Dmol.js');\n}\n\nvar viewer_1591902605133733 = null;\nvar warn = document.getElementById(\"3dmolwarning_1591902605133733\");\nif(warn) {\n    warn.parentNode.removeChild(warn);\n}\n$3Dmolpromise.then(function() {\nviewer_1591902605133733 = $3Dmol.createViewer($(\"#3dmolviewer_1591902605133733\"),{backgroundColor:\"white\"});\n$3Dmol.download(\"pdb:5WOG\", viewer_1591902605133733, {}, function() {\n\tviewer_1591902605133733.setStyle({\"chain\": \"A\"},{\"cartoon\": {\"color\": \"orange\"}});\n\tviewer_1591902605133733.setStyle({\"chain\": [\"A\", \"B\"]},{\"cartoon\": {\"color\": \"orange\"}});\n\tviewer_1591902605133733.addLabel(\"alpha subunits\",{\"fontColor\": \"orange\", \"backgroundColor\": \"lightgray\"},{\"chain\": [\"A\", \"B\"]});\n\tviewer_1591902605133733.setStyle({\"chain\": [\"C\", \"D\"]},{\"cartoon\": {\"color\": \"blue\"}});\n\tviewer_1591902605133733.addLabel(\"beta subunits\",{\"fontColor\": \"blue\", \"backgroundColor\": \"lightgray\"},{\"chain\": [\"C\", \"D\"]});\n\tviewer_1591902605133733.setStyle({\"resn\": \"HOH\"},{\"sphere\": {\"radius\": 0.5}});\n\tviewer_1591902605133733.setStyle({\"resn\": \"HOH\"},{});\n\tviewer_1591902605133733.setStyle({\"resn\": \"HEM\"},{\"sphere\": {\"colorscheme\": \"greenCarbon\"}});\n\tviewer_1591902605133733.setStyle({\"chain\": \"A\", \"resn\": \"HEM\"},{\"stick\": {\"colorscheme\": \"redCarbon\", \"radius\": 0.2}});\n\tviewer_1591902605133733.zoomTo({\"chain\": \"A\", \"resn\": \"HEM\"});\n\tviewer_1591902605133733.setStyle({\"chain\": \"A\", \"resi\": \"87\"},{\"stick\": {\"colorscheme\": \"redCarbon\"}});\n\tviewer_1591902605133733.setStyle({\"chain\": \"A\", \"elem\": \"Fe\"},{\"sphere\": {\"color\": \"green\"}});\n\tviewer_1591902605133733.addResLabels({\"chain\": \"A\", \"resi\": \"87\"});\n\tviewer_1591902605133733.addResLabels({\"chain\": \"A\", \"resn\": \"HEM\"});\n\tviewer_1591902605133733.removeAllLabels();\n\tviewer_1591902605133733.setStyle({\"line\": {}});\n\tviewer_1591902605133733.setStyle({\"resn\": \"HEM\", \"chain\": \"A\", \"byres\": \"true\", \"expand\": 5},{\"stick\": {\"colorscheme\": \"orangeCarbon\"}});\n\tviewer_1591902605133733.setStyle({\"chain\": \"A\", \"resn\": \"HEM\"},{\"sphere\": {\"colorscheme\": \"lightgreenCarbon\"}});\n\tviewer_1591902605133733.zoomTo({\"resn\": \"HEM\", \"chain\": \"A\", \"byres\": \"true\", \"expand\": 5});\nviewer_1591902605133733.render();\n})\n});\n</script>",
      "text/html": [
       "<div id=\"3dmolviewer_1591902605133733\"  style=\"position: relative; width: 400px; height: 400px\">\n",
       "        <p id=\"3dmolwarning_1591902605133733\" style=\"background-color:#ffcccc;color:black\">You appear to be running in JupyterLab (or JavaScript failed to load for some other reason).  You need to install the 3dmol extension: <br>\n",
       "        <tt>jupyter labextension install jupyterlab_3dmol</tt></p>\n",
       "        </div>\n",
       "<script>\n",
       "\n",
       "var loadScriptAsync = function(uri){\n",
       "  return new Promise((resolve, reject) => {\n",
       "    var tag = document.createElement('script');\n",
       "    tag.src = uri;\n",
       "    tag.async = true;\n",
       "    tag.onload = () => {\n",
       "      resolve();\n",
       "    };\n",
       "  var firstScriptTag = document.getElementsByTagName('script')[0];\n",
       "  firstScriptTag.parentNode.insertBefore(tag, firstScriptTag);\n",
       "});\n",
       "};\n",
       "\n",
       "if(typeof $3Dmolpromise === 'undefined') {\n",
       "$3Dmolpromise = null;\n",
       "  $3Dmolpromise = loadScriptAsync('https://3dmol.csb.pitt.edu/build/3Dmol.js');\n",
       "}\n",
       "\n",
       "var viewer_1591902605133733 = null;\n",
       "var warn = document.getElementById(\"3dmolwarning_1591902605133733\");\n",
       "if(warn) {\n",
       "    warn.parentNode.removeChild(warn);\n",
       "}\n",
       "$3Dmolpromise.then(function() {\n",
       "viewer_1591902605133733 = $3Dmol.createViewer($(\"#3dmolviewer_1591902605133733\"),{backgroundColor:\"white\"});\n",
       "$3Dmol.download(\"pdb:5WOG\", viewer_1591902605133733, {}, function() {\n",
       "\tviewer_1591902605133733.setStyle({\"chain\": \"A\"},{\"cartoon\": {\"color\": \"orange\"}});\n",
       "\tviewer_1591902605133733.setStyle({\"chain\": [\"A\", \"B\"]},{\"cartoon\": {\"color\": \"orange\"}});\n",
       "\tviewer_1591902605133733.addLabel(\"alpha subunits\",{\"fontColor\": \"orange\", \"backgroundColor\": \"lightgray\"},{\"chain\": [\"A\", \"B\"]});\n",
       "\tviewer_1591902605133733.setStyle({\"chain\": [\"C\", \"D\"]},{\"cartoon\": {\"color\": \"blue\"}});\n",
       "\tviewer_1591902605133733.addLabel(\"beta subunits\",{\"fontColor\": \"blue\", \"backgroundColor\": \"lightgray\"},{\"chain\": [\"C\", \"D\"]});\n",
       "\tviewer_1591902605133733.setStyle({\"resn\": \"HOH\"},{\"sphere\": {\"radius\": 0.5}});\n",
       "\tviewer_1591902605133733.setStyle({\"resn\": \"HOH\"},{});\n",
       "\tviewer_1591902605133733.setStyle({\"resn\": \"HEM\"},{\"sphere\": {\"colorscheme\": \"greenCarbon\"}});\n",
       "\tviewer_1591902605133733.setStyle({\"chain\": \"A\", \"resn\": \"HEM\"},{\"stick\": {\"colorscheme\": \"redCarbon\", \"radius\": 0.2}});\n",
       "\tviewer_1591902605133733.zoomTo({\"chain\": \"A\", \"resn\": \"HEM\"});\n",
       "\tviewer_1591902605133733.setStyle({\"chain\": \"A\", \"resi\": \"87\"},{\"stick\": {\"colorscheme\": \"redCarbon\"}});\n",
       "\tviewer_1591902605133733.setStyle({\"chain\": \"A\", \"elem\": \"Fe\"},{\"sphere\": {\"color\": \"green\"}});\n",
       "\tviewer_1591902605133733.addResLabels({\"chain\": \"A\", \"resi\": \"87\"});\n",
       "\tviewer_1591902605133733.addResLabels({\"chain\": \"A\", \"resn\": \"HEM\"});\n",
       "\tviewer_1591902605133733.removeAllLabels();\n",
       "\tviewer_1591902605133733.setStyle({\"line\": {}});\n",
       "\tviewer_1591902605133733.setStyle({\"resn\": \"HEM\", \"chain\": \"A\", \"byres\": \"true\", \"expand\": 5},{\"stick\": {\"colorscheme\": \"orangeCarbon\"}});\n",
       "\tviewer_1591902605133733.setStyle({\"chain\": \"A\", \"resn\": \"HEM\"},{\"sphere\": {\"colorscheme\": \"lightgreenCarbon\"}});\n",
       "\tviewer_1591902605133733.zoomTo({\"resn\": \"HEM\", \"chain\": \"A\", \"byres\": \"true\", \"expand\": 5});\n",
       "viewer_1591902605133733.render();\n",
       "})\n",
       "});\n",
       "</script>"
      ]
     },
     "metadata": {},
     "output_type": "display_data"
    }
   ],
   "source": [
    "# reset styles and remove labels\n",
    "viewer.removeAllLabels()\n",
    "viewer.setStyle({'line':{}})\n",
    "\n",
    "# select by distance\n",
    "selection = {'resn':'HEM', 'chain':'A', 'byres':'true', 'expand': 5}\n",
    "\n",
    "# set styles\n",
    "viewer.setStyle(selection,{'stick':{'colorscheme':'orangeCarbon'}})\n",
    "viewer.setStyle({'chain': 'A', 'resn': 'HEM'},{'sphere': {'colorscheme': 'lightgreenCarbon'}})\n",
    "viewer.zoomTo(selection)\n",
    "viewer.show()"
   ]
  },
  {
   "cell_type": "code",
   "execution_count": null,
   "metadata": {},
   "outputs": [],
   "source": []
  },
  {
   "cell_type": "code",
   "execution_count": null,
   "metadata": {},
   "outputs": [],
   "source": []
  }
 ],
 "metadata": {
  "kernelspec": {
   "display_name": "Python 3",
   "language": "python",
   "name": "python3"
  },
  "language_info": {
   "codemirror_mode": {
    "name": "ipython",
    "version": 3
   },
   "file_extension": ".py",
   "mimetype": "text/x-python",
   "name": "python",
   "nbconvert_exporter": "python",
   "pygments_lexer": "ipython3",
   "version": "3.7.7"
  }
 },
 "nbformat": 4,
 "nbformat_minor": 2
}

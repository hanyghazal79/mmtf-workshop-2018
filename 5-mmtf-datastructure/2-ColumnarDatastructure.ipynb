{
 "cells": [
  {
   "cell_type": "markdown",
   "metadata": {},
   "source": [
    "# 2-ColumnarDatastructure\n",
    "For some applications, it's easier to access structural information in a simple columnar data structure. The ColumnarStructure class represents most data as atom-based numpy arrays. For high performance, it's best to use numpy operations whenever possible. This tutorial shows how to use boolean indexing to extract C-alpha coordinates from the datastructure."
   ]
  },
  {
   "cell_type": "code",
   "execution_count": 1,
   "metadata": {},
   "outputs": [],
   "source": [
    "from pyspark.sql import SparkSession\n",
    "from mmtfPyspark.io import mmtfReader\n",
    "from mmtfPyspark.utils import traverseStructureHierarchy, ColumnarStructure\n",
    "from mmtfPyspark import structureViewer\n",
    "import numpy as np\n",
    "from scipy.spatial.distance import pdist, squareform\n",
    "import matplotlib.pyplot as plt"
   ]
  },
  {
   "cell_type": "markdown",
   "metadata": {},
   "source": [
    "#### Configure Spark"
   ]
  },
  {
   "cell_type": "code",
   "execution_count": 2,
   "metadata": {},
   "outputs": [],
   "source": [
    "spark = SparkSession.builder.appName(\"2-ColumnarStructure\").getOrCreate()"
   ]
  },
  {
   "cell_type": "markdown",
   "metadata": {},
   "source": [
    "### Download an example structure\n",
    "Here we download an HIV protease structure with a bound ligand (Nelfinavir)."
   ]
  },
  {
   "cell_type": "code",
   "execution_count": 3,
   "metadata": {},
   "outputs": [],
   "source": [
    "pdb = mmtfReader.download_full_mmtf_files([\"1OHR\"])"
   ]
  },
  {
   "cell_type": "markdown",
   "metadata": {},
   "source": [
    "Structures are represented as keyword-value pairs (tuples):\n",
    "* key: structure identifier (e.g., PDB ID)\n",
    "* value: MmtfStructure (structure data)\n",
    "\n",
    "In this case, we only have one structure, so we can use the first() method to extract the data."
   ]
  },
  {
   "cell_type": "code",
   "execution_count": 4,
   "metadata": {},
   "outputs": [],
   "source": [
    "structure = pdb.values().first()"
   ]
  },
  {
   "cell_type": "markdown",
   "metadata": {},
   "source": [
    "## Create a columnar structure from an MMTF structure\n",
    "Here we convert an MMTF structure to a columnar structure. By specifying the firstModel flag, we\n",
    "only retrieve data for the first model (this structure has only one model, anyways)."
   ]
  },
  {
   "cell_type": "code",
   "execution_count": 5,
   "metadata": {
    "scrolled": true
   },
   "outputs": [],
   "source": [
    "arrays = ColumnarStructure(structure, firstModelOnly=True)"
   ]
  },
  {
   "cell_type": "markdown",
   "metadata": {},
   "source": [
    "### Get atom coordinates as numpy arrays"
   ]
  },
  {
   "cell_type": "code",
   "execution_count": 6,
   "metadata": {},
   "outputs": [
    {
     "data": {
      "text/plain": [
       "numpy.ndarray"
      ]
     },
     "execution_count": 6,
     "metadata": {},
     "output_type": "execute_result"
    }
   ],
   "source": [
    "x = arrays.get_x_coords()\n",
    "y = arrays.get_y_coords()\n",
    "z = arrays.get_z_coords()\n",
    "type(z)"
   ]
  },
  {
   "cell_type": "markdown",
   "metadata": {},
   "source": [
    "### Get entity types\n",
    "Entity types can be used to distinguish polymer from non-polymer groups and select specific components, e.g., all protein groups. The following entity types are available:\n",
    "* **Polymer groups**\n",
    " * PRO: protein\n",
    " * DNA: DNA\n",
    " * RNA: RNA\n",
    " * PSR: saccharide\n",
    "* **Non-polymer groups**\n",
    " * LGO: ligand organic\n",
    " * LGI: ligand inorganic\n",
    " * SAC: saccaride\n",
    " * WAT: water"
   ]
  },
  {
   "cell_type": "code",
   "execution_count": 7,
   "metadata": {},
   "outputs": [
    {
     "data": {
      "text/plain": [
       "array(['PRO', 'PRO', 'PRO', ..., 'WAT', 'WAT', 'WAT'], dtype=object)"
      ]
     },
     "execution_count": 7,
     "metadata": {},
     "output_type": "execute_result"
    }
   ],
   "source": [
    "entity_types = arrays.get_entity_types()\n",
    "entity_types"
   ]
  },
  {
   "cell_type": "markdown",
   "metadata": {},
   "source": [
    "### Get atom, group, and chain name arrays"
   ]
  },
  {
   "cell_type": "code",
   "execution_count": 8,
   "metadata": {},
   "outputs": [
    {
     "data": {
      "text/plain": [
       "array(['N', 'CA', 'C', ..., 'O', 'H1', 'H2'], dtype=object)"
      ]
     },
     "execution_count": 8,
     "metadata": {},
     "output_type": "execute_result"
    }
   ],
   "source": [
    "atom_names = arrays.get_atom_names()\n",
    "atom_names"
   ]
  },
  {
   "cell_type": "code",
   "execution_count": 9,
   "metadata": {},
   "outputs": [
    {
     "data": {
      "text/plain": [
       "array(['PRO', 'PRO', 'PRO', ..., 'HOH', 'HOH', 'HOH'], dtype=object)"
      ]
     },
     "execution_count": 9,
     "metadata": {},
     "output_type": "execute_result"
    }
   ],
   "source": [
    "group_names = arrays.get_group_names()\n",
    "group_names"
   ]
  },
  {
   "cell_type": "code",
   "execution_count": 10,
   "metadata": {},
   "outputs": [
    {
     "data": {
      "text/plain": [
       "array(['A', 'A', 'A', ..., 'B', 'B', 'B'], dtype=object)"
      ]
     },
     "execution_count": 10,
     "metadata": {},
     "output_type": "execute_result"
    }
   ],
   "source": [
    "chain_names = arrays.get_chain_names()\n",
    "chain_names"
   ]
  },
  {
   "cell_type": "markdown",
   "metadata": {},
   "source": [
    "## Boolean array indexing\n",
    "Boolean indexing is an efficient way to access selected elements from numpy arrays. \n",
    "\n",
    "Here, we calculate an index for C-alpha atoms in proteins in chain A."
   ]
  },
  {
   "cell_type": "code",
   "execution_count": 11,
   "metadata": {
    "scrolled": true
   },
   "outputs": [
    {
     "data": {
      "text/plain": [
       "array([False,  True, False, ..., False, False, False])"
      ]
     },
     "execution_count": 11,
     "metadata": {},
     "output_type": "execute_result"
    }
   ],
   "source": [
    "ca_idx = (atom_names == 'CA') & (entity_types == 'PRO') & (chain_names == 'A')\n",
    "ca_idx"
   ]
  },
  {
   "cell_type": "markdown",
   "metadata": {},
   "source": [
    "Then, we apply this index to get the coordinates for the C-alpha atoms"
   ]
  },
  {
   "cell_type": "code",
   "execution_count": 12,
   "metadata": {},
   "outputs": [],
   "source": [
    "xc = x[ca_idx]\n",
    "yc = y[ca_idx]\n",
    "zc = z[ca_idx]"
   ]
  },
  {
   "cell_type": "markdown",
   "metadata": {},
   "source": [
    "#### Combine separate x, y, and z arrays and swap axes\n",
    "\n",
    "```\n",
    "[x0, x1, ..., xn],\n",
    "[y0, y1, ...,yn],\n",
    "[z0, z1, ...,zn]\n",
    "```\n",
    "\n",
    "\n",
    "to \n",
    "\n",
    "```\n",
    "[x0, y0, z0],\n",
    "[x1, y1, z1], \n",
    " ...,\n",
    "[xn, yn, zn]\n",
    " ```"
   ]
  },
  {
   "cell_type": "code",
   "execution_count": 13,
   "metadata": {},
   "outputs": [],
   "source": [
    "coords = np.swapaxes(np.array([xc,yc,zc]), 0, 1)"
   ]
  },
  {
   "cell_type": "markdown",
   "metadata": {},
   "source": [
    "### Calculate distance matrix & map"
   ]
  },
  {
   "cell_type": "code",
   "execution_count": 14,
   "metadata": {
    "scrolled": true
   },
   "outputs": [],
   "source": [
    "dist_matrix = squareform(pdist(coords), 'euclidean')"
   ]
  },
  {
   "cell_type": "code",
   "execution_count": 15,
   "metadata": {},
   "outputs": [
    {
     "data": {
      "image/png": "[encoded data removed]",
      "text/plain": [
       "<Figure size 432x288 with 2 Axes>"
      ]
     },
     "metadata": {
      "needs_background": "light"
     },
     "output_type": "display_data"
    }
   ],
   "source": [
    "plt.pcolor(dist_matrix, cmap='RdBu')\n",
    "plt.title('C-alpha distance matrix')\n",
    "plt.gca().set_aspect('equal')\n",
    "plt.colorbar();"
   ]
  },
  {
   "cell_type": "markdown",
   "metadata": {},
   "source": [
    "#### Calculate distance map\n",
    "Only consider C-alpha - C-alpha distance <= 9. We use boolean indexing to set all distance > 9 to zero."
   ]
  },
  {
   "cell_type": "code",
   "execution_count": 16,
   "metadata": {},
   "outputs": [],
   "source": [
    "dist_matrix[dist_matrix > 9] = 0"
   ]
  },
  {
   "cell_type": "code",
   "execution_count": 17,
   "metadata": {},
   "outputs": [
    {
     "data": {
      "image/png": "[encoded data removed]",
      "text/plain": [
       "<Figure size 432x288 with 2 Axes>"
      ]
     },
     "metadata": {
      "needs_background": "light"
     },
     "output_type": "display_data"
    }
   ],
   "source": [
    "plt.pcolor(dist_matrix, cmap='Greys')\n",
    "plt.title('C-alpha distance map')\n",
    "plt.gca().set_aspect('equal')\n",
    "plt.colorbar();"
   ]
  },
  {
   "cell_type": "code",
   "execution_count": 18,
   "metadata": {},
   "outputs": [],
   "source": [
    "spark.stop()"
   ]
  },
  {
   "cell_type": "code",
   "execution_count": null,
   "metadata": {},
   "outputs": [],
   "source": []
  }
 ],
 "metadata": {
  "kernelspec": {
   "display_name": "Python 3",
   "language": "python",
   "name": "python3"
  },
  "language_info": {
   "codemirror_mode": {
    "name": "ipython",
    "version": 3
   },
   "file_extension": ".py",
   "mimetype": "text/x-python",
   "name": "python",
   "nbconvert_exporter": "python",
   "pygments_lexer": "ipython3",
   "version": "3.6.13"
  }
 },
 "nbformat": 4,
 "nbformat_minor": 4
}

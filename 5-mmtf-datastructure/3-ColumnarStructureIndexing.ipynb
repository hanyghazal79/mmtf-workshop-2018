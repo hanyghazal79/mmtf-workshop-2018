{
 "cells": [
  {
   "cell_type": "markdown",
   "metadata": {},
   "source": [
    "### 3-ColumnarStructureIndexing\n",
    "ColumnarStructure provides indices to locate the starts and ends of groups and chains in the atom-based arrays."
   ]
  },
  {
   "cell_type": "code",
   "execution_count": 1,
   "metadata": {},
   "outputs": [],
   "source": [
    "from pyspark.sql import SparkSession\n",
    "from mmtfPyspark.io import mmtfReader\n",
    "from mmtfPyspark.utils import traverseStructureHierarchy, ColumnarStructure\n",
    "from mmtfPyspark import structureViewer\n",
    "import numpy as np\n",
    "from scipy.spatial.distance import pdist, squareform\n",
    "import matplotlib.pyplot as plt"
   ]
  },
  {
   "cell_type": "markdown",
   "metadata": {},
   "source": [
    "#### Configure Spark"
   ]
  },
  {
   "cell_type": "code",
   "execution_count": 2,
   "metadata": {},
   "outputs": [],
   "source": [
    "spark = SparkSession.builder.appName(\"3-ColumnarStructureIndexing\").getOrCreate()"
   ]
  },
  {
   "cell_type": "markdown",
   "metadata": {},
   "source": [
    "### Download an example structure\n",
    "Here we download an HIV protease structure with a bound ligand (Nelfinavir)."
   ]
  },
  {
   "cell_type": "code",
   "execution_count": 3,
   "metadata": {},
   "outputs": [],
   "source": [
    "pdb = mmtfReader.download_full_mmtf_files([\"1OHR\"])"
   ]
  },
  {
   "cell_type": "markdown",
   "metadata": {},
   "source": [
    "Structures are represented as keyword-value pairs (tuples):\n",
    "* key: structure identifier (e.g., PDB ID)\n",
    "* value: MmtfStructure (structure data)\n",
    "\n",
    "In this case, we only have one structure, so we can use the first() method to extract the data."
   ]
  },
  {
   "cell_type": "code",
   "execution_count": 4,
   "metadata": {},
   "outputs": [],
   "source": [
    "structure = pdb.values().first()"
   ]
  },
  {
   "cell_type": "markdown",
   "metadata": {},
   "source": [
    "## Create a columnar structure from an MMTF structure\n",
    "Here we convert an MMTF structure to a columnar structure. By specifying the firstModel flag, we\n",
    "only retrieve data for the first model (this structure has only one model, anyways)."
   ]
  },
  {
   "cell_type": "code",
   "execution_count": 5,
   "metadata": {
    "scrolled": true
   },
   "outputs": [],
   "source": [
    "arrays = ColumnarStructure(structure, firstModelOnly=True)"
   ]
  },
  {
   "cell_type": "markdown",
   "metadata": {},
   "source": [
    "### Get atom coordinates as numpy arrays"
   ]
  },
  {
   "cell_type": "code",
   "execution_count": 6,
   "metadata": {},
   "outputs": [],
   "source": [
    "x = arrays.get_x_coords()\n",
    "y = arrays.get_y_coords()\n",
    "z = arrays.get_z_coords()"
   ]
  },
  {
   "cell_type": "markdown",
   "metadata": {},
   "source": [
    "### Get entity types\n",
    "Entity types can be used to distinguish polymer from non-polymer groups and select specific components, e.g., all protein groups. The following entity types are available:\n",
    "* **Polymer groups**\n",
    " * PRO: protein\n",
    " * DNA: DNA\n",
    " * RNA: RNA\n",
    " * PSR: saccharide\n",
    "* **Non-polymer groups**\n",
    " * LGO: ligand organic\n",
    " * LGI: ligand inorganic\n",
    " * SAC: saccaride\n",
    " * WAT: water"
   ]
  },
  {
   "cell_type": "code",
   "execution_count": 7,
   "metadata": {},
   "outputs": [
    {
     "data": {
      "text/plain": [
       "array(['PRO', 'PRO', 'PRO', ..., 'WAT', 'WAT', 'WAT'], dtype=object)"
      ]
     },
     "execution_count": 7,
     "metadata": {},
     "output_type": "execute_result"
    }
   ],
   "source": [
    "entity_types = arrays.get_entity_types()\n",
    "entity_types"
   ]
  },
  {
   "cell_type": "markdown",
   "metadata": {},
   "source": [
    "### Get group names, group numbers, and chain name arrays"
   ]
  },
  {
   "cell_type": "code",
   "execution_count": 8,
   "metadata": {},
   "outputs": [
    {
     "data": {
      "text/plain": [
       "array(['PRO', 'PRO', 'PRO', ..., 'HOH', 'HOH', 'HOH'], dtype=object)"
      ]
     },
     "execution_count": 8,
     "metadata": {},
     "output_type": "execute_result"
    }
   ],
   "source": [
    "group_names = arrays.get_group_names()\n",
    "group_names"
   ]
  },
  {
   "cell_type": "markdown",
   "metadata": {},
   "source": [
    "Note, group numbers are string. They may contain an insertion code, e.g., `'101A'`"
   ]
  },
  {
   "cell_type": "code",
   "execution_count": 9,
   "metadata": {},
   "outputs": [
    {
     "data": {
      "text/plain": [
       "array(['1', '1', '1', ..., '514', '514', '514'], dtype=object)"
      ]
     },
     "execution_count": 9,
     "metadata": {},
     "output_type": "execute_result"
    }
   ],
   "source": [
    "group_numbers = arrays.get_group_numbers()\n",
    "group_numbers"
   ]
  },
  {
   "cell_type": "code",
   "execution_count": 10,
   "metadata": {},
   "outputs": [
    {
     "data": {
      "text/plain": [
       "array(['A', 'A', 'A', ..., 'B', 'B', 'B'], dtype=object)"
      ]
     },
     "execution_count": 10,
     "metadata": {},
     "output_type": "execute_result"
    }
   ],
   "source": [
    "chain_names = arrays.get_chain_names()\n",
    "chain_names"
   ]
  },
  {
   "cell_type": "markdown",
   "metadata": {},
   "source": [
    "## Indexing the columnar datastructure"
   ]
  },
  {
   "cell_type": "markdown",
   "metadata": {},
   "source": [
    "Indices are available to find the starts and ends of chains and groups. Indices are zero-based atom indices.\n",
    "* start: index to first atom\n",
    "* end: index to last atom + **1**"
   ]
  },
  {
   "cell_type": "markdown",
   "metadata": {},
   "source": [
    "### Get start and end indices for chains"
   ]
  },
  {
   "cell_type": "code",
   "execution_count": 11,
   "metadata": {},
   "outputs": [],
   "source": [
    "chain_indices = arrays.get_chain_to_atom_indices()"
   ]
  },
  {
   "cell_type": "code",
   "execution_count": 12,
   "metadata": {},
   "outputs": [
    {
     "name": "stdout",
     "output_type": "stream",
     "text": [
      "Protein chain  : A: 0 - 865\n",
      "Protein chain  : B: 865 - 1755\n",
      "Organic ligand : 1UN-A: 1755 - 1799\n",
      "Water          : HOH-A: 1799 - 1886\n",
      "Water          : HOH-B: 1886 - 1952\n"
     ]
    }
   ],
   "source": [
    "for i in range(arrays.get_num_chains()):   \n",
    "    start = chain_indices[i]\n",
    "    end = chain_indices[i+1]\n",
    "    \n",
    "    if entity_types[start] == \"PRO\":\n",
    "        print(\"Protein chain  : \" + chain_names[start] + \": \" + str(start) + \" - \" + str(end))\n",
    "        \n",
    "    elif entity_types[start] == \"LGO\":\n",
    "        print(\"Organic ligand : \" + group_names[start] + \"-\" + chain_names[start] + \": \" + str(start) + \" - \" + str(end))\n",
    "        \n",
    "    elif entity_types[start] == \"WAT\":\n",
    "        print(\"Water          : \" + group_names[start] + \"-\" + chain_names[start] + \": \" + str(start) + \" - \" + str(end))"
   ]
  },
  {
   "cell_type": "markdown",
   "metadata": {},
   "source": [
    "### Get start and end indices for groups (residues)"
   ]
  },
  {
   "cell_type": "code",
   "execution_count": 13,
   "metadata": {},
   "outputs": [],
   "source": [
    "group_indices = arrays.get_group_to_atom_indices()"
   ]
  },
  {
   "cell_type": "code",
   "execution_count": 14,
   "metadata": {},
   "outputs": [
    {
     "name": "stdout",
     "output_type": "stream",
     "text": [
      "PRO-A:1 0 - 9\n",
      "GLN-A:2 9 - 21\n",
      "ILE-A:3 21 - 30\n",
      "THR-A:4 30 - 39\n",
      "LEU-A:5 39 - 48\n",
      "TRP-A:6 48 - 64\n",
      "GLN-A:7 64 - 71\n",
      "ARG-A:8 71 - 88\n",
      "PRO-A:9 88 - 95\n",
      "LEU-A:10 95 - 104\n",
      "VAL-A:11 104 - 112\n",
      "THR-A:12 112 - 121\n",
      "ILE-A:13 121 - 130\n",
      "LYS-A:14 130 - 138\n",
      "ILE-A:15 138 - 147\n",
      "GLY-A:16 147 - 152\n",
      "GLY-A:17 152 - 157\n",
      "GLN-A:18 157 - 169\n",
      "LEU-A:19 169 - 178\n",
      "LYS-A:20 178 - 191\n",
      "GLU-A:21 191 - 201\n",
      "ALA-A:22 201 - 207\n",
      "LEU-A:23 207 - 216\n",
      "LEU-A:24 216 - 225\n",
      "ASP-A:25 225 - 234\n",
      "THR-A:26 234 - 243\n",
      "GLY-A:27 243 - 248\n",
      "ALA-A:28 248 - 254\n",
      "ASP-A:29 254 - 263\n",
      "ASP-A:30 263 - 272\n",
      "THR-A:31 272 - 281\n",
      "VAL-A:32 281 - 289\n",
      "LEU-A:33 289 - 298\n",
      "GLU-A:34 298 - 305\n",
      "GLU-A:35 305 - 312\n",
      "MET-A:36 312 - 321\n",
      "SER-A:37 321 - 329\n",
      "LEU-A:38 329 - 338\n",
      "PRO-A:39 338 - 345\n",
      "GLY-A:40 345 - 350\n",
      "ARG-A:41 350 - 356\n",
      "TRP-A:42 356 - 372\n",
      "LYS-A:43 372 - 378\n",
      "PRO-A:44 378 - 385\n",
      "LYS-A:45 385 - 391\n",
      "MET-A:46 391 - 400\n",
      "ILE-A:47 400 - 409\n",
      "GLY-A:48 409 - 414\n",
      "GLY-A:49 414 - 419\n",
      "ILE-A:50 419 - 428\n",
      "GLY-A:51 428 - 433\n",
      "GLY-A:52 433 - 438\n",
      "PHE-A:53 438 - 450\n",
      "ILE-A:54 450 - 459\n",
      "LYS-A:55 459 - 466\n",
      "VAL-A:56 466 - 474\n",
      "ARG-A:57 474 - 491\n",
      "GLN-A:58 491 - 503\n",
      "TYR-A:59 503 - 517\n",
      "ASP-A:60 517 - 526\n",
      "GLN-A:61 526 - 532\n",
      "ILE-A:62 532 - 541\n",
      "LEU-A:63 541 - 550\n",
      "ILE-A:64 550 - 559\n",
      "GLU-A:65 559 - 569\n",
      "ILE-A:66 569 - 578\n",
      "CYS-A:67 578 - 585\n",
      "GLY-A:68 585 - 590\n",
      "HIS-A:69 590 - 603\n",
      "LYS-A:70 603 - 611\n",
      "ALA-A:71 611 - 617\n",
      "ILE-A:72 617 - 626\n",
      "GLY-A:73 626 - 631\n",
      "THR-A:74 631 - 640\n",
      "VAL-A:75 640 - 648\n",
      "LEU-A:76 648 - 657\n",
      "VAL-A:77 657 - 665\n",
      "GLY-A:78 665 - 670\n",
      "PRO-A:79 670 - 677\n",
      "THR-A:80 677 - 686\n",
      "PRO-A:81 686 - 693\n",
      "VAL-A:82 693 - 701\n",
      "ASN-A:83 701 - 712\n",
      "ILE-A:84 712 - 721\n",
      "ILE-A:85 721 - 730\n",
      "GLY-A:86 730 - 735\n",
      "ARG-A:87 735 - 752\n",
      "ASN-A:88 752 - 763\n",
      "LEU-A:89 763 - 772\n",
      "LEU-A:90 772 - 781\n",
      "THR-A:91 781 - 790\n",
      "GLN-A:92 790 - 802\n",
      "ILE-A:93 802 - 811\n",
      "GLY-A:94 811 - 816\n",
      "CYS-A:95 816 - 823\n",
      "THR-A:96 823 - 832\n",
      "LEU-A:97 832 - 841\n",
      "ASN-A:98 841 - 852\n",
      "PHE-A:99 852 - 865\n",
      "PRO-B:1 865 - 874\n",
      "GLN-B:2 874 - 886\n",
      "ILE-B:3 886 - 895\n",
      "THR-B:4 895 - 904\n",
      "LEU-B:5 904 - 913\n",
      "TRP-B:6 913 - 929\n",
      "GLN-B:7 929 - 936\n",
      "ARG-B:8 936 - 953\n",
      "PRO-B:9 953 - 960\n",
      "LEU-B:10 960 - 969\n",
      "VAL-B:11 969 - 977\n",
      "THR-B:12 977 - 986\n",
      "ILE-B:13 986 - 995\n",
      "LYS-B:14 995 - 1001\n",
      "ILE-B:15 1001 - 1010\n",
      "GLY-B:16 1010 - 1015\n",
      "GLY-B:17 1015 - 1020\n",
      "GLN-B:18 1020 - 1032\n",
      "LEU-B:19 1032 - 1041\n",
      "LYS-B:20 1041 - 1054\n",
      "GLU-B:21 1054 - 1064\n",
      "ALA-B:22 1064 - 1070\n",
      "LEU-B:23 1070 - 1079\n",
      "LEU-B:24 1079 - 1088\n",
      "ASP-B:25 1088 - 1097\n",
      "THR-B:26 1097 - 1106\n",
      "GLY-B:27 1106 - 1111\n",
      "ALA-B:28 1111 - 1117\n",
      "ASP-B:29 1117 - 1126\n",
      "ASP-B:30 1126 - 1135\n",
      "THR-B:31 1135 - 1144\n",
      "VAL-B:32 1144 - 1152\n",
      "LEU-B:33 1152 - 1161\n",
      "GLU-B:34 1161 - 1171\n",
      "GLU-B:35 1171 - 1181\n",
      "MET-B:36 1181 - 1190\n",
      "SER-B:37 1190 - 1198\n",
      "LEU-B:38 1198 - 1207\n",
      "PRO-B:39 1207 - 1214\n",
      "GLY-B:40 1214 - 1219\n",
      "ARG-B:41 1219 - 1225\n",
      "TRP-B:42 1225 - 1241\n",
      "LYS-B:43 1241 - 1254\n",
      "PRO-B:44 1254 - 1261\n",
      "LYS-B:45 1261 - 1274\n",
      "MET-B:46 1274 - 1283\n",
      "ILE-B:47 1283 - 1292\n",
      "GLY-B:48 1292 - 1297\n",
      "GLY-B:49 1297 - 1302\n",
      "ILE-B:50 1302 - 1311\n",
      "GLY-B:51 1311 - 1316\n",
      "GLY-B:52 1316 - 1321\n",
      "PHE-B:53 1321 - 1333\n",
      "ILE-B:54 1333 - 1342\n",
      "LYS-B:55 1342 - 1350\n",
      "VAL-B:56 1350 - 1358\n",
      "ARG-B:57 1358 - 1375\n",
      "GLN-B:58 1375 - 1387\n",
      "TYR-B:59 1387 - 1401\n",
      "ASP-B:60 1401 - 1410\n",
      "GLN-B:61 1410 - 1417\n",
      "ILE-B:62 1417 - 1426\n",
      "LEU-B:63 1426 - 1435\n",
      "ILE-B:64 1435 - 1444\n",
      "GLU-B:65 1444 - 1454\n",
      "ILE-B:66 1454 - 1463\n",
      "CYS-B:67 1463 - 1470\n",
      "GLY-B:68 1470 - 1475\n",
      "HIS-B:69 1475 - 1488\n",
      "LYS-B:70 1488 - 1501\n",
      "ALA-B:71 1501 - 1507\n",
      "ILE-B:72 1507 - 1516\n",
      "GLY-B:73 1516 - 1521\n",
      "THR-B:74 1521 - 1530\n",
      "VAL-B:75 1530 - 1538\n",
      "LEU-B:76 1538 - 1547\n",
      "VAL-B:77 1547 - 1555\n",
      "GLY-B:78 1555 - 1560\n",
      "PRO-B:79 1560 - 1567\n",
      "THR-B:80 1567 - 1576\n",
      "PRO-B:81 1576 - 1583\n",
      "VAL-B:82 1583 - 1591\n",
      "ASN-B:83 1591 - 1602\n",
      "ILE-B:84 1602 - 1611\n",
      "ILE-B:85 1611 - 1620\n",
      "GLY-B:86 1620 - 1625\n",
      "ARG-B:87 1625 - 1642\n",
      "ASN-B:88 1642 - 1653\n",
      "LEU-B:89 1653 - 1662\n",
      "LEU-B:90 1662 - 1671\n",
      "THR-B:91 1671 - 1680\n",
      "GLN-B:92 1680 - 1692\n",
      "ILE-B:93 1692 - 1701\n",
      "GLY-B:94 1701 - 1706\n",
      "CYS-B:95 1706 - 1713\n",
      "THR-B:96 1713 - 1722\n",
      "LEU-B:97 1722 - 1731\n",
      "ASN-B:98 1731 - 1742\n",
      "PHE-B:99 1742 - 1755\n",
      "1UN-A:201 1755 - 1799\n",
      "HOH-A:303 1799 - 1802\n",
      "HOH-A:304 1802 - 1805\n",
      "HOH-A:307 1805 - 1808\n",
      "HOH-A:311 1808 - 1811\n",
      "HOH-A:312 1811 - 1814\n",
      "HOH-A:313 1814 - 1817\n",
      "HOH-A:315 1817 - 1820\n",
      "HOH-A:321 1820 - 1823\n",
      "HOH-A:325 1823 - 1826\n",
      "HOH-A:326 1826 - 1829\n",
      "HOH-A:330 1829 - 1832\n",
      "HOH-A:334 1832 - 1835\n",
      "HOH-A:335 1835 - 1838\n",
      "HOH-A:336 1838 - 1841\n",
      "HOH-A:406 1841 - 1844\n",
      "HOH-A:407 1844 - 1847\n",
      "HOH-A:410 1847 - 1850\n",
      "HOH-A:411 1850 - 1853\n",
      "HOH-A:414 1853 - 1856\n",
      "HOH-A:421 1856 - 1859\n",
      "HOH-A:423 1859 - 1862\n",
      "HOH-A:425 1862 - 1865\n",
      "HOH-A:426 1865 - 1868\n",
      "HOH-A:432 1868 - 1871\n",
      "HOH-A:433 1871 - 1874\n",
      "HOH-A:507 1874 - 1877\n",
      "HOH-A:508 1877 - 1880\n",
      "HOH-A:510 1880 - 1883\n",
      "HOH-A:515 1883 - 1886\n",
      "HOH-B:301 1886 - 1889\n",
      "HOH-B:302 1889 - 1892\n",
      "HOH-B:305 1892 - 1895\n",
      "HOH-B:308 1895 - 1898\n",
      "HOH-B:309 1898 - 1901\n",
      "HOH-B:314 1901 - 1904\n",
      "HOH-B:318 1904 - 1907\n",
      "HOH-B:319 1907 - 1910\n",
      "HOH-B:329 1910 - 1913\n",
      "HOH-B:338 1913 - 1916\n",
      "HOH-B:343 1916 - 1919\n",
      "HOH-B:403 1919 - 1922\n",
      "HOH-B:408 1922 - 1925\n",
      "HOH-B:413 1925 - 1928\n",
      "HOH-B:415 1928 - 1931\n",
      "HOH-B:416 1931 - 1934\n",
      "HOH-B:422 1934 - 1937\n",
      "HOH-B:424 1937 - 1940\n",
      "HOH-B:431 1940 - 1943\n",
      "HOH-B:506 1943 - 1946\n",
      "HOH-B:513 1946 - 1949\n",
      "HOH-B:514 1949 - 1952\n"
     ]
    }
   ],
   "source": [
    "for i in range(arrays.get_num_groups()):   \n",
    "    start = group_indices[i]\n",
    "    end = group_indices[i+1]\n",
    "    \n",
    "    print(group_names[start] + \"-\" + chain_names[start] + \":\" + group_numbers[start] + \" \" + str(start) + \" - \" + str(end))"
   ]
  },
  {
   "cell_type": "code",
   "execution_count": 15,
   "metadata": {},
   "outputs": [],
   "source": [
    "spark.stop()"
   ]
  }
 ],
 "metadata": {
  "kernelspec": {
   "display_name": "Python 3",
   "language": "python",
   "name": "python3"
  },
  "language_info": {
   "codemirror_mode": {
    "name": "ipython",
    "version": 3
   },
   "file_extension": ".py",
   "mimetype": "text/x-python",
   "name": "python",
   "nbconvert_exporter": "python",
   "pygments_lexer": "ipython3",
   "version": "3.6.13"
  }
 },
 "nbformat": 4,
 "nbformat_minor": 4
}

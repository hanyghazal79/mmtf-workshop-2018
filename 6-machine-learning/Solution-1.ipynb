{
 "cells": [
  {
   "cell_type": "markdown",
   "metadata": {},
   "source": [
    "# Solution 1\n",
    "Apply your skills to classify protein foldType with Decision Tree Classifier\n",
    "\n",
    "## Imports"
   ]
  },
  {
   "cell_type": "code",
   "execution_count": 1,
   "metadata": {},
   "outputs": [],
   "source": [
    "from mmtfPyspark.ml import SparkMultiClassClassifier, datasetBalancer                                 \n",
    "from pyspark.sql import SparkSession\n",
    "from pyspark.sql.functions import *\n",
    "import mltoolkit"
   ]
  },
  {
   "cell_type": "markdown",
   "metadata": {},
   "source": [
    "## Configure Spark Session"
   ]
  },
  {
   "cell_type": "code",
   "execution_count": 2,
   "metadata": {},
   "outputs": [],
   "source": [
    "spark = SparkSession.builder.appName(\"Solution-1\").getOrCreate()"
   ]
  },
  {
   "cell_type": "markdown",
   "metadata": {},
   "source": [
    "## TODO-1: Read in data from parquet file"
   ]
  },
  {
   "cell_type": "code",
   "execution_count": 3,
   "metadata": {},
   "outputs": [],
   "source": [
    "parquetFile = './input_features/'\n",
    "data = spark.read.parquet(parquetFile).cache()"
   ]
  },
  {
   "cell_type": "markdown",
   "metadata": {},
   "source": [
    "## TODO-2: Select alpha, beta, alpha+beta foldtypes"
   ]
  },
  {
   "cell_type": "code",
   "execution_count": 4,
   "metadata": {},
   "outputs": [
    {
     "name": "stdout",
     "output_type": "stream",
     "text": [
      "Total number of data: 14443\n"
     ]
    }
   ],
   "source": [
    "data = data.where((data.foldType == 'alpha') |\\\n",
    "                  (data.foldType == 'beta') |\\\n",
    "                  (data.foldType == 'alpha+beta'))\n",
    "print(f\"Total number of data: {data.count()}\")"
   ]
  },
  {
   "cell_type": "markdown",
   "metadata": {},
   "source": [
    "## TODO-3: Downsample data"
   ]
  },
  {
   "cell_type": "code",
   "execution_count": 5,
   "metadata": {},
   "outputs": [
    {
     "name": "stdout",
     "output_type": "stream",
     "text": [
      "Dataset size (balanced)  : 3777\n",
      "+----------+-----+\n",
      "|  foldType|count|\n",
      "+----------+-----+\n",
      "|alpha+beta| 1290|\n",
      "|      beta| 1253|\n",
      "|     alpha| 1234|\n",
      "+----------+-----+\n",
      "\n"
     ]
    }
   ],
   "source": [
    "label = 'foldType'\n",
    "\n",
    "data = datasetBalancer.downsample(data, label, 1)\n",
    "print(f\"Dataset size (balanced)  : {data.count()}\")\n",
    "    \n",
    "data.groupby(label).count().show()"
   ]
  },
  {
   "cell_type": "markdown",
   "metadata": {},
   "source": [
    "## TODO-4: Decision Tree Classifier with PySpark"
   ]
  },
  {
   "cell_type": "code",
   "execution_count": 6,
   "metadata": {},
   "outputs": [
    {
     "name": "stdout",
     "output_type": "stream",
     "text": [
      "\n",
      " Class\tTrain\tTest\n",
      "alpha+beta\t1150\t140\n",
      "beta\t1128\t125\n",
      "alpha\t1099\t135\n",
      "\n",
      "Sample predictions: DecisionTreeClassifier\n",
      "+----------------+----------+----------+----------+----------+--------------------+------------+------------------+--------------------+----------+--------------+\n",
      "|structureChainId|     alpha|      beta|      coil|  foldType|            features|indexedLabel|     rawPrediction|         probability|prediction|predictedLabel|\n",
      "+----------------+----------+----------+----------+----------+--------------------+------------+------------------+--------------------+----------+--------------+\n",
      "|          1P1M.A|0.36386138|0.23514852| 0.4009901|alpha+beta|[-0.0362324150647...|         0.0| [166.0,15.0,52.0]|[0.71244635193133...|       0.0|    alpha+beta|\n",
      "|          2HJ1.B|      0.15|      0.35|       0.5|alpha+beta|[0.10243093885947...|         0.0| [113.0,36.0,43.0]|[0.58854166666666...|       0.0|    alpha+beta|\n",
      "|          2XED.B| 0.4512195|  0.199187| 0.3495935|alpha+beta|[0.11892006892765...|         0.0|[299.0,69.0,102.0]|[0.63617021276595...|       0.0|    alpha+beta|\n",
      "|          3WKX.A|0.39269406|0.17503805|0.43226787|alpha+beta|[0.05524102908079...|         0.0|[299.0,69.0,102.0]|[0.63617021276595...|       0.0|    alpha+beta|\n",
      "|          4JHT.A|0.15920398| 0.3482587|0.49253732|alpha+beta|[0.08487862857376...|         0.0|[299.0,69.0,102.0]|[0.63617021276595...|       0.0|    alpha+beta|\n",
      "+----------------+----------+----------+----------+----------+--------------------+------------+------------------+--------------------+----------+--------------+\n",
      "only showing top 5 rows\n",
      "\n",
      "Total time taken: 8.522699117660522\n",
      "\n",
      "Method\tDecisionTreeClassifier\n",
      "F\t0.6674861314396199\n",
      "Accuracy\t0.665\n",
      "Precision\t0.6766782277914523\n",
      "Recall\t0.665\n",
      "False Positive Rate\t0.17231758807230507\n",
      "True Positive Rate\t0.665\n",
      "\t\n",
      "Confusion Matrix\n",
      "['alpha+beta', 'beta', 'alpha']\n",
      "DenseMatrix([[96., 15., 29.],\n",
      "             [35., 83.,  7.],\n",
      "             [37., 11., 87.]])\n"
     ]
    }
   ],
   "source": [
    "from pyspark.ml.classification import DecisionTreeClassifier\n",
    "\n",
    "dtc = DecisionTreeClassifier()\n",
    "mcc = SparkMultiClassClassifier(dtc, label, 0.1)\n",
    "matrics = mcc.fit(data)\n",
    "for k,v in matrics.items(): print(f\"{k}\\t{v}\")"
   ]
  },
  {
   "cell_type": "markdown",
   "metadata": {},
   "source": [
    "## BONUS: Decision Tree Classifier with sklearn"
   ]
  },
  {
   "cell_type": "code",
   "execution_count": 7,
   "metadata": {},
   "outputs": [
    {
     "name": "stdout",
     "output_type": "stream",
     "text": [
      "\n",
      " Class\tTrain\tTest\n",
      "\n",
      "alpha+beta\t1174\t116\n",
      "\n",
      "beta\t1131\t122\n",
      "\n",
      "alpha\t1094\t140\n",
      "\n",
      "Total time taken: 0.4359261989593506\n",
      "\n",
      "Methods\tDecisionTreeClassifier\n",
      "F Score\t0.7575189308337245\n",
      "Accuracy\t0.7566137566137566\n",
      "Precision\t0.7588633356499631\n",
      "Recall\t0.7566137566137566\n",
      "False Positive Rate\t0.12142492970470631\n",
      "True Positive Rate\t0.7545775121806778\n",
      "\t\n",
      "Confusion Matrix\n",
      "['alpha+beta' 'beta' 'alpha']\n",
      "[[ 81  14  21]\n",
      " [ 18  96   8]\n",
      " [ 23   8 109]]\n"
     ]
    }
   ],
   "source": [
    "from sklearn.tree import DecisionTreeClassifier\n",
    "\n",
    "df = data.toPandas()\n",
    "dtc = DecisionTreeClassifier()\n",
    "mcc = mltoolkit.MultiClassClassifier(dtc, 'foldType', testFraction=0.1)\n",
    "matrics = mcc.fit(df)\n",
    "for k,v in matrics.items(): print(f\"{k}\\t{v}\")"
   ]
  },
  {
   "cell_type": "code",
   "execution_count": 8,
   "metadata": {},
   "outputs": [],
   "source": [
    "spark.stop()"
   ]
  }
 ],
 "metadata": {
  "kernelspec": {
   "display_name": "Python 3",
   "language": "python",
   "name": "python3"
  },
  "language_info": {
   "codemirror_mode": {
    "name": "ipython",
    "version": 3
   },
   "file_extension": ".py",
   "mimetype": "text/x-python",
   "name": "python",
   "nbconvert_exporter": "python",
   "pygments_lexer": "ipython3",
   "version": "3.6.13"
  }
 },
 "nbformat": 4,
 "nbformat_minor": 4
}

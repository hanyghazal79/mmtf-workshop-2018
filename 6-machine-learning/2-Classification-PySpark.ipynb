{
 "cells": [
  {
   "cell_type": "markdown",
   "metadata": {},
   "source": [
    "# Machine learning - Features extraction\n",
    "\n",
    "Runs binary and multi-class classifiers on a given dataset.\n",
    "Dataset are read as Parquet file. The dataset must contain a feature vector named \"features\" and a classification column.\n",
    "\n",
    "## Imports"
   ]
  },
  {
   "cell_type": "code",
   "execution_count": 1,
   "metadata": {},
   "outputs": [],
   "source": [
    "from mmtfPyspark.ml import SparkMultiClassClassifier, datasetBalancer                                 \n",
    "from pyspark.sql import SparkSession\n",
    "from pyspark.sql.functions import *\n",
    "from pyspark.ml.classification import DecisionTreeClassifier, LogisticRegression, MultilayerPerceptronClassifier, RandomForestClassifier"
   ]
  },
  {
   "cell_type": "markdown",
   "metadata": {},
   "source": [
    "## Configure Spark Session"
   ]
  },
  {
   "cell_type": "code",
   "execution_count": 2,
   "metadata": {},
   "outputs": [],
   "source": [
    "spark = SparkSession.builder.appName(\"datasetClassifier\").getOrCreate()"
   ]
  },
  {
   "cell_type": "markdown",
   "metadata": {},
   "source": [
    "## Read in data from parquet file"
   ]
  },
  {
   "cell_type": "code",
   "execution_count": 3,
   "metadata": {},
   "outputs": [
    {
     "name": "stdout",
     "output_type": "stream",
     "text": [
      "Total number of data: 18491\n"
     ]
    },
    {
     "data": {
      "text/html": [
       "<div>\n",
       "<style scoped>\n",
       "    .dataframe tbody tr th:only-of-type {\n",
       "        vertical-align: middle;\n",
       "    }\n",
       "\n",
       "    .dataframe tbody tr th {\n",
       "        vertical-align: top;\n",
       "    }\n",
       "\n",
       "    .dataframe thead th {\n",
       "        text-align: right;\n",
       "    }\n",
       "</style>\n",
       "<table border=\"1\" class=\"dataframe\">\n",
       "  <thead>\n",
       "    <tr style=\"text-align: right;\">\n",
       "      <th></th>\n",
       "      <th>structureChainId</th>\n",
       "      <th>alpha</th>\n",
       "      <th>beta</th>\n",
       "      <th>coil</th>\n",
       "      <th>foldType</th>\n",
       "      <th>features</th>\n",
       "    </tr>\n",
       "  </thead>\n",
       "  <tbody>\n",
       "    <tr>\n",
       "      <th>0</th>\n",
       "      <td>1LBU.A</td>\n",
       "      <td>0.361502</td>\n",
       "      <td>0.107981</td>\n",
       "      <td>0.530516</td>\n",
       "      <td>other</td>\n",
       "      <td>[-0.03669819220865391, 0.13017714411934028, 0....</td>\n",
       "    </tr>\n",
       "    <tr>\n",
       "      <th>1</th>\n",
       "      <td>1LC0.A</td>\n",
       "      <td>0.410345</td>\n",
       "      <td>0.275862</td>\n",
       "      <td>0.313793</td>\n",
       "      <td>alpha+beta</td>\n",
       "      <td>[0.017792403316538488, 0.06889735366958401, 0....</td>\n",
       "    </tr>\n",
       "    <tr>\n",
       "      <th>2</th>\n",
       "      <td>1LC5.A</td>\n",
       "      <td>0.428169</td>\n",
       "      <td>0.157746</td>\n",
       "      <td>0.414084</td>\n",
       "      <td>alpha+beta</td>\n",
       "      <td>[0.12736012024892182, -0.0036459625095703716, ...</td>\n",
       "    </tr>\n",
       "    <tr>\n",
       "      <th>3</th>\n",
       "      <td>1LFP.A</td>\n",
       "      <td>0.427984</td>\n",
       "      <td>0.234568</td>\n",
       "      <td>0.337449</td>\n",
       "      <td>alpha+beta</td>\n",
       "      <td>[0.07269115472257498, -0.010540929652990833, 0...</td>\n",
       "    </tr>\n",
       "    <tr>\n",
       "      <th>4</th>\n",
       "      <td>1LFW.A</td>\n",
       "      <td>0.322650</td>\n",
       "      <td>0.273504</td>\n",
       "      <td>0.403846</td>\n",
       "      <td>alpha+beta</td>\n",
       "      <td>[-0.027897640212830196, 0.0941510383131058, 0....</td>\n",
       "    </tr>\n",
       "  </tbody>\n",
       "</table>\n",
       "</div>"
      ],
      "text/plain": [
       "  structureChainId     alpha      beta      coil    foldType  \\\n",
       "0           1LBU.A  0.361502  0.107981  0.530516       other   \n",
       "1           1LC0.A  0.410345  0.275862  0.313793  alpha+beta   \n",
       "2           1LC5.A  0.428169  0.157746  0.414084  alpha+beta   \n",
       "3           1LFP.A  0.427984  0.234568  0.337449  alpha+beta   \n",
       "4           1LFW.A  0.322650  0.273504  0.403846  alpha+beta   \n",
       "\n",
       "                                            features  \n",
       "0  [-0.03669819220865391, 0.13017714411934028, 0....  \n",
       "1  [0.017792403316538488, 0.06889735366958401, 0....  \n",
       "2  [0.12736012024892182, -0.0036459625095703716, ...  \n",
       "3  [0.07269115472257498, -0.010540929652990833, 0...  \n",
       "4  [-0.027897640212830196, 0.0941510383131058, 0....  "
      ]
     },
     "execution_count": 3,
     "metadata": {},
     "output_type": "execute_result"
    }
   ],
   "source": [
    "parquetFile = './input_features/'\n",
    "data = spark.read.parquet(parquetFile).cache()\n",
    "\n",
    "print(f\"Total number of data: {data.count()}\")\n",
    "data.toPandas().head()"
   ]
  },
  {
   "cell_type": "markdown",
   "metadata": {},
   "source": [
    "## Select only alpha and beta foldType"
   ]
  },
  {
   "cell_type": "code",
   "execution_count": 4,
   "metadata": {},
   "outputs": [
    {
     "name": "stdout",
     "output_type": "stream",
     "text": [
      "Total number of data: 4937\n"
     ]
    },
    {
     "data": {
      "text/html": [
       "<div>\n",
       "<style scoped>\n",
       "    .dataframe tbody tr th:only-of-type {\n",
       "        vertical-align: middle;\n",
       "    }\n",
       "\n",
       "    .dataframe tbody tr th {\n",
       "        vertical-align: top;\n",
       "    }\n",
       "\n",
       "    .dataframe thead th {\n",
       "        text-align: right;\n",
       "    }\n",
       "</style>\n",
       "<table border=\"1\" class=\"dataframe\">\n",
       "  <thead>\n",
       "    <tr style=\"text-align: right;\">\n",
       "      <th></th>\n",
       "      <th>structureChainId</th>\n",
       "      <th>alpha</th>\n",
       "      <th>beta</th>\n",
       "      <th>coil</th>\n",
       "      <th>foldType</th>\n",
       "      <th>features</th>\n",
       "    </tr>\n",
       "  </thead>\n",
       "  <tbody>\n",
       "    <tr>\n",
       "      <th>0</th>\n",
       "      <td>1LGH.A</td>\n",
       "      <td>0.857143</td>\n",
       "      <td>0.0</td>\n",
       "      <td>0.142857</td>\n",
       "      <td>alpha</td>\n",
       "      <td>[0.23627377279441464, 0.05140024884180589, 0.4...</td>\n",
       "    </tr>\n",
       "    <tr>\n",
       "      <th>1</th>\n",
       "      <td>1LGH.B</td>\n",
       "      <td>0.744186</td>\n",
       "      <td>0.0</td>\n",
       "      <td>0.255814</td>\n",
       "      <td>alpha</td>\n",
       "      <td>[0.07006392560221933, -0.05091538017785007, 0....</td>\n",
       "    </tr>\n",
       "    <tr>\n",
       "      <th>2</th>\n",
       "      <td>1LGH.D</td>\n",
       "      <td>0.857143</td>\n",
       "      <td>0.0</td>\n",
       "      <td>0.142857</td>\n",
       "      <td>alpha</td>\n",
       "      <td>[0.23627377279441464, 0.05140024884180589, 0.4...</td>\n",
       "    </tr>\n",
       "    <tr>\n",
       "      <th>3</th>\n",
       "      <td>1LGH.E</td>\n",
       "      <td>0.744186</td>\n",
       "      <td>0.0</td>\n",
       "      <td>0.255814</td>\n",
       "      <td>alpha</td>\n",
       "      <td>[0.07006392560221933, -0.05091538017785007, 0....</td>\n",
       "    </tr>\n",
       "    <tr>\n",
       "      <th>4</th>\n",
       "      <td>1LGH.G</td>\n",
       "      <td>0.857143</td>\n",
       "      <td>0.0</td>\n",
       "      <td>0.142857</td>\n",
       "      <td>alpha</td>\n",
       "      <td>[0.23627377279441464, 0.05140024884180589, 0.4...</td>\n",
       "    </tr>\n",
       "  </tbody>\n",
       "</table>\n",
       "</div>"
      ],
      "text/plain": [
       "  structureChainId     alpha  beta      coil foldType  \\\n",
       "0           1LGH.A  0.857143   0.0  0.142857    alpha   \n",
       "1           1LGH.B  0.744186   0.0  0.255814    alpha   \n",
       "2           1LGH.D  0.857143   0.0  0.142857    alpha   \n",
       "3           1LGH.E  0.744186   0.0  0.255814    alpha   \n",
       "4           1LGH.G  0.857143   0.0  0.142857    alpha   \n",
       "\n",
       "                                            features  \n",
       "0  [0.23627377279441464, 0.05140024884180589, 0.4...  \n",
       "1  [0.07006392560221933, -0.05091538017785007, 0....  \n",
       "2  [0.23627377279441464, 0.05140024884180589, 0.4...  \n",
       "3  [0.07006392560221933, -0.05091538017785007, 0....  \n",
       "4  [0.23627377279441464, 0.05140024884180589, 0.4...  "
      ]
     },
     "execution_count": 4,
     "metadata": {},
     "output_type": "execute_result"
    }
   ],
   "source": [
    "data = data.where((data.foldType == 'alpha') | (data.foldType == 'beta')) #| (data.foldType == 'other'))\n",
    "\n",
    "print(f\"Total number of data: {data.count()}\")\n",
    "data.toPandas().head()"
   ]
  },
  {
   "cell_type": "markdown",
   "metadata": {},
   "source": [
    "## Basic dataset information and setting"
   ]
  },
  {
   "cell_type": "code",
   "execution_count": 5,
   "metadata": {},
   "outputs": [
    {
     "name": "stdout",
     "output_type": "stream",
     "text": [
      "Feature count    : 50\n",
      "Class count    : 2\n",
      "Dataset size (unbalanced)    : 4937\n",
      "+--------+-----+\n",
      "|foldType|count|\n",
      "+--------+-----+\n",
      "|    beta| 1253|\n",
      "|   alpha| 3684|\n",
      "+--------+-----+\n",
      "\n",
      "Dataset size (balanced)  : 2487\n",
      "+--------+-----+\n",
      "|foldType|count|\n",
      "+--------+-----+\n",
      "|    beta| 1253|\n",
      "|   alpha| 1234|\n",
      "+--------+-----+\n",
      "\n"
     ]
    }
   ],
   "source": [
    "label = 'foldType'\n",
    "testFraction = 0.1\n",
    "seed = 123\n",
    "\n",
    "vector = data.first()[\"features\"]\n",
    "featureCount = len(vector)\n",
    "print(f\"Feature count    : {featureCount}\")\n",
    "    \n",
    "classCount = int(data.select(label).distinct().count())\n",
    "print(f\"Class count    : {classCount}\")\n",
    "\n",
    "print(f\"Dataset size (unbalanced)    : {data.count()}\")\n",
    "    \n",
    "data.groupby(label).count().show()\n",
    "data = datasetBalancer.downsample(data, label, 1)\n",
    "print(f\"Dataset size (balanced)  : {data.count()}\")\n",
    "    \n",
    "data.groupby(label).count().show()"
   ]
  },
  {
   "cell_type": "markdown",
   "metadata": {},
   "source": [
    "## Random Forest Classifier"
   ]
  },
  {
   "cell_type": "code",
   "execution_count": 6,
   "metadata": {},
   "outputs": [
    {
     "name": "stdout",
     "output_type": "stream",
     "text": [
      "\n",
      " Class\tTrain\tTest\n",
      "beta\t1129\t124\n",
      "alpha\t1096\t138\n",
      "\n",
      "Sample predictions: RandomForestClassifier\n",
      "+----------------+-----------+----------+----------+--------+--------------------+------------+--------------------+--------------------+----------+--------------+\n",
      "|structureChainId|      alpha|      beta|      coil|foldType|            features|indexedLabel|       rawPrediction|         probability|prediction|predictedLabel|\n",
      "+----------------+-----------+----------+----------+--------+--------------------+------------+--------------------+--------------------+----------+--------------+\n",
      "|          3C5X.C|0.037037037|0.56790125|0.39506173|    beta|[0.09558909519236...|         0.0|[17.9023113878481...|[0.89511556939240...|       0.0|          beta|\n",
      "|          4D7C.A|0.044715445| 0.5406504|0.41463414|    beta|[-0.0319722487827...|         0.0|[16.1381744010601...|[0.80690872005300...|       0.0|          beta|\n",
      "|          5LTG.B|        0.0| 0.5786164|0.42138365|    beta|[0.05144563539998...|         0.0|[10.7898740235799...|[0.53949370117899...|       0.0|          beta|\n",
      "|          2B4H.B|0.018348623|0.63761467| 0.3440367|    beta|[-0.0295000851021...|         0.0|[18.2689413108828...|[0.91344706554414...|       0.0|          beta|\n",
      "|          2QF4.A| 0.01764706| 0.5117647|0.47058824|    beta|[-0.0272243778869...|         0.0|[15.5572626952883...|[0.77786313476441...|       0.0|          beta|\n",
      "+----------------+-----------+----------+----------+--------+--------------------+------------+--------------------+--------------------+----------+--------------+\n",
      "only showing top 5 rows\n",
      "\n",
      "Total time taken: 8.132889032363892\n",
      "\n",
      "Method\tRandomForestClassifier\n",
      "AUC\t0.8634291725105189\n",
      "F\t0.862691591032037\n",
      "Accuracy\t0.8625954198473282\n",
      "Precision\t0.8636924144557732\n",
      "Recall\t0.8625954198473282\n",
      "False Positive Rate\t0.13573707482629038\n",
      "True Positive Rate\t0.8625954198473282\n",
      "\t\n",
      "Confusion Matrix\n",
      "['beta', 'alpha']\n",
      "DenseMatrix([[109.,  15.],\n",
      "             [ 21., 117.]])\n"
     ]
    }
   ],
   "source": [
    "rfc = RandomForestClassifier()\n",
    "mcc = SparkMultiClassClassifier(rfc, label, testFraction, seed)\n",
    "matrics = mcc.fit(data)\n",
    "for k,v in matrics.items(): print(f\"{k}\\t{v}\")"
   ]
  },
  {
   "cell_type": "markdown",
   "metadata": {},
   "source": [
    "## Logistic Regression Classifier"
   ]
  },
  {
   "cell_type": "code",
   "execution_count": 7,
   "metadata": {},
   "outputs": [
    {
     "name": "stdout",
     "output_type": "stream",
     "text": [
      "\n",
      " Class\tTrain\tTest\n",
      "beta\t1129\t124\n",
      "alpha\t1096\t138\n",
      "\n",
      "Sample predictions: LogisticRegression\n",
      "+----------------+-----------+----------+----------+--------+--------------------+------------+--------------------+--------------------+----------+--------------+\n",
      "|structureChainId|      alpha|      beta|      coil|foldType|            features|indexedLabel|       rawPrediction|         probability|prediction|predictedLabel|\n",
      "+----------------+-----------+----------+----------+--------+--------------------+------------+--------------------+--------------------+----------+--------------+\n",
      "|          3C5X.C|0.037037037|0.56790125|0.39506173|    beta|[0.09558909519236...|         0.0|[2.91709717105090...|[0.94868516858396...|       0.0|          beta|\n",
      "|          4D7C.A|0.044715445| 0.5406504|0.41463414|    beta|[-0.0319722487827...|         0.0|[1.74714903999137...|[0.85159285165984...|       0.0|          beta|\n",
      "|          5LTG.B|        0.0| 0.5786164|0.42138365|    beta|[0.05144563539998...|         0.0|[0.51536824728804...|[0.62606407134874...|       0.0|          beta|\n",
      "|          2B4H.B|0.018348623|0.63761467| 0.3440367|    beta|[-0.0295000851021...|         0.0|[4.29881287897821...|[0.98659739396346...|       0.0|          beta|\n",
      "|          2QF4.A| 0.01764706| 0.5117647|0.47058824|    beta|[-0.0272243778869...|         0.0|[3.10840376209434...|[0.95723806408012...|       0.0|          beta|\n",
      "+----------------+-----------+----------+----------+--------+--------------------+------------+--------------------+--------------------+----------+--------------+\n",
      "only showing top 5 rows\n",
      "\n",
      "Total time taken: 9.848273038864136\n",
      "\n",
      "Method\tLogisticRegression\n",
      "AUC\t0.8859864422627396\n",
      "F\t0.8855630038274853\n",
      "Accuracy\t0.8854961832061069\n",
      "Precision\t0.8860427110630056\n",
      "Recall\t0.8854961832061068\n",
      "False Positive Rate\t0.11352329868062769\n",
      "True Positive Rate\t0.8854961832061068\n",
      "\t\n",
      "Confusion Matrix\n",
      "['beta', 'alpha']\n",
      "DenseMatrix([[111.,  13.],\n",
      "             [ 17., 121.]])\n"
     ]
    }
   ],
   "source": [
    "lr = LogisticRegression()\n",
    "mcc = SparkMultiClassClassifier(lr, label, testFraction, seed)\n",
    "matrics = mcc.fit(data)\n",
    "for k,v in matrics.items(): print(f\"{k}\\t{v}\")"
   ]
  },
  {
   "cell_type": "markdown",
   "metadata": {},
   "source": [
    "## Simple Multilayer Perception Classifier"
   ]
  },
  {
   "cell_type": "code",
   "execution_count": 8,
   "metadata": {},
   "outputs": [
    {
     "name": "stdout",
     "output_type": "stream",
     "text": [
      "\n",
      " Class\tTrain\tTest\n",
      "beta\t1129\t124\n",
      "alpha\t1096\t138\n",
      "\n",
      "Sample predictions: MultilayerPerceptronClassifier\n",
      "+----------------+-----------+----------+----------+--------+--------------------+------------+--------------------+--------------------+----------+--------------+\n",
      "|structureChainId|      alpha|      beta|      coil|foldType|            features|indexedLabel|       rawPrediction|         probability|prediction|predictedLabel|\n",
      "+----------------+-----------+----------+----------+--------+--------------------+------------+--------------------+--------------------+----------+--------------+\n",
      "|          3C5X.C|0.037037037|0.56790125|0.39506173|    beta|[0.09558909519236...|         0.0|[2.10432098158542...|[0.93830746536760...|       0.0|          beta|\n",
      "|          4D7C.A|0.044715445| 0.5406504|0.41463414|    beta|[-0.0319722487827...|         0.0|[1.65768386789357...|[0.85989879208471...|       0.0|          beta|\n",
      "|          5LTG.B|        0.0| 0.5786164|0.42138365|    beta|[0.05144563539998...|         0.0|[0.79207503061248...|[0.52331890951242...|       0.0|          beta|\n",
      "|          2B4H.B|0.018348623|0.63761467| 0.3440367|    beta|[-0.0295000851021...|         0.0|[3.15463251641009...|[0.99212519827765...|       0.0|          beta|\n",
      "|          2QF4.A| 0.01764706| 0.5117647|0.47058824|    beta|[-0.0272243778869...|         0.0|[3.96416203784699...|[0.99871776545954...|       0.0|          beta|\n",
      "+----------------+-----------+----------+----------+--------+--------------------+------------+--------------------+--------------------+----------+--------------+\n",
      "only showing top 5 rows\n",
      "\n",
      "Total time taken: 11.974912881851196\n",
      "\n",
      "Method\tMultilayerPerceptronClassifier\n",
      "AUC\t0.8944600280504909\n",
      "F\t0.8932045402757206\n",
      "Accuracy\t0.8931297709923665\n",
      "Precision\t0.894944749906582\n",
      "Recall\t0.8931297709923665\n",
      "False Positive Rate\t0.10420971489138464\n",
      "True Positive Rate\t0.8931297709923665\n",
      "\t\n",
      "Confusion Matrix\n",
      "['beta', 'alpha']\n",
      "DenseMatrix([[114.,  10.],\n",
      "             [ 18., 120.]])\n"
     ]
    }
   ],
   "source": [
    "layers = [featureCount, 32, 32, classCount]\n",
    "mpc = MultilayerPerceptronClassifier().setLayers(layers) \\\n",
    "                                          .setBlockSize(128) \\\n",
    "                                          .setSeed(1234) \\\n",
    "                                          .setMaxIter(100)\n",
    "mcc = SparkMultiClassClassifier(mpc, label, testFraction, seed)\n",
    "matrics = mcc.fit(data)\n",
    "for k,v in matrics.items(): print(f\"{k}\\t{v}\")"
   ]
  },
  {
   "cell_type": "markdown",
   "metadata": {},
   "source": [
    "## Terminate Spark"
   ]
  },
  {
   "cell_type": "code",
   "execution_count": 9,
   "metadata": {},
   "outputs": [],
   "source": [
    "spark.stop()"
   ]
  }
 ],
 "metadata": {
  "kernelspec": {
   "display_name": "Python 3",
   "language": "python",
   "name": "python3"
  },
  "language_info": {
   "codemirror_mode": {
    "name": "ipython",
    "version": 3
   },
   "file_extension": ".py",
   "mimetype": "text/x-python",
   "name": "python",
   "nbconvert_exporter": "python",
   "pygments_lexer": "ipython3",
   "version": "3.6.13"
  }
 },
 "nbformat": 4,
 "nbformat_minor": 4
}
